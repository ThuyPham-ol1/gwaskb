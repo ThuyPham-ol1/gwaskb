{
 "cells": [
  {
   "cell_type": "markdown",
   "metadata": {},
   "source": [
    "# Extracting SNP/P-value relations from tables"
   ]
  },
  {
   "cell_type": "markdown",
   "metadata": {},
   "source": [
    "This module parses XML tables and extracts relations between SNPs and the p-values at which they are deemed to be significant."
   ]
  },
  {
   "cell_type": "markdown",
   "metadata": {},
   "source": [
    "## Preparations"
   ]
  },
  {
   "cell_type": "markdown",
   "metadata": {},
   "source": [
    "We start by configuring Jupyter and setting up our environment."
   ]
  },
  {
   "cell_type": "code",
   "execution_count": 3,
   "metadata": {
    "collapsed": false
   },
   "outputs": [
    {
     "name": "stdout",
     "output_type": "stream",
     "text": [
      "The autoreload extension is already loaded. To reload it, use:\n",
      "  %reload_ext autoreload\n"
     ]
    }
   ],
   "source": [
    "%load_ext autoreload\n",
    "%autoreload 2\n",
    "\n",
    "import sys\n",
    "import cPickle\n",
    "import numpy as np\n",
    "import sqlalchemy\n",
    "\n",
    "# set the paths to snorkel and gwaskb\n",
    "sys.path.append('../snorkel-tables')\n",
    "sys.path.append('../src')\n",
    "sys.path.append('../src/crawler')\n",
    "\n",
    "# set up the directory with the input papers\n",
    "supp_root_dir = '/Users/kuleshov/Downloads/gwas_supp2/'\n",
    "supp_sub_dirs = ['doc/', 'docx/', 'xls/', 'xlsx/']\n",
    "supp_dirs = [supp_root_dir + d for d in supp_sub_dirs]\n",
    "supp_map_file = '../data/db/supp-map.txt'\n",
    "\n",
    "# set up matplotlib\n",
    "import matplotlib\n",
    "%matplotlib inline\n",
    "matplotlib.rcParams['figure.figsize'] = (12,4)\n",
    "\n",
    "# create a Snorkel session\n",
    "from snorkel import SnorkelSession\n",
    "session = SnorkelSession()"
   ]
  },
  {
   "cell_type": "markdown",
   "metadata": {},
   "source": [
    "### Load corpus"
   ]
  },
  {
   "cell_type": "markdown",
   "metadata": {},
   "source": [
    "We load our usual corpus of GWAS papers."
   ]
  },
  {
   "cell_type": "code",
   "execution_count": 4,
   "metadata": {
    "collapsed": false
   },
   "outputs": [],
   "source": [
    "from extractor.parser import SuppXMLDocParser\n",
    "\n",
    "xml_parser = SuppXMLDocParser(\n",
    "    paths=supp_dirs,\n",
    "    map_path=supp_map_file,\n",
    "    doc='.//body',\n",
    "    text='.//table',\n",
    "    keep_xml_tree=True)"
   ]
  },
  {
   "cell_type": "code",
   "execution_count": 5,
   "metadata": {
    "collapsed": false
   },
   "outputs": [],
   "source": [
    "session.rollback()"
   ]
  },
  {
   "cell_type": "code",
   "execution_count": 8,
   "metadata": {
    "collapsed": false
   },
   "outputs": [
    {
     "name": "stdout",
     "output_type": "stream",
     "text": [
      "Loaded corpus of 3 documents\n"
     ]
    }
   ],
   "source": [
    "from snorkel.models import Corpus\n",
    "from snorkel.parser import CorpusParser, OmniParser\n",
    "\n",
    "# parses tables into rows, cols, cells...\n",
    "table_parser = OmniParser(timeout=1000000)\n",
    "\n",
    "try:\n",
    "    corpus = session.query(Corpus).filter(Corpus.name == 'GWAS Supplementary Table Corpus 13').one()\n",
    "except:\n",
    "    cp = CorpusParser(xml_parser, table_parser, max_docs=3)\n",
    "    %time corpus = cp.parse_corpus(name='GWAS Supplementary Table Corpus 13', session=session)\n",
    "    session.add(corpus)\n",
    "    session.commit()\n",
    "\n",
    "print 'Loaded corpus of %d documents' % len(corpus)"
   ]
  },
  {
   "cell_type": "markdown",
   "metadata": {},
   "source": [
    "## Candidate Extraction"
   ]
  },
  {
   "cell_type": "code",
   "execution_count": 9,
   "metadata": {
    "collapsed": false
   },
   "outputs": [
    {
     "name": "stdout",
     "output_type": "stream",
     "text": [
      "<td>Principal Component</td>\n",
      "[Phrase(Doc: 21223598-1755-8794-4-4-s2, Table: 0, Row: 0, Col: 0, Position: 0, Text: Principal Component)]\n",
      "<td>Eigenvalue</td>\n",
      "[Phrase(Doc: 21223598-1755-8794-4-4-s2, Table: 0, Row: 0, Col: 1, Position: 0, Text: Eigenvalue)]\n",
      "<td>Relative Decrease</td>\n",
      "[Phrase(Doc: 21223598-1755-8794-4-4-s2, Table: 0, Row: 0, Col: 2, Position: 0, Text: Relative Decrease)]\n",
      "<td>r2 with Family</td>\n",
      "[Phrase(Doc: 21223598-1755-8794-4-4-s2, Table: 0, Row: 0, Col: 3, Position: 0, Text: r2 with Family)]\n",
      "<td>r2 with Center</td>\n",
      "[Phrase(Doc: 21223598-1755-8794-4-4-s2, Table: 0, Row: 0, Col: 4, Position: 0, Text: r2 with Center)]\n",
      "<td>1</td>\n",
      "[Phrase(Doc: 21223598-1755-8794-4-4-s2, Table: 0, Row: 1, Col: 0, Position: 0, Text: 1)]\n",
      "<td>7.511</td>\n",
      "[Phrase(Doc: 21223598-1755-8794-4-4-s2, Table: 0, Row: 1, Col: 1, Position: 0, Text: 7.511)]\n",
      "<td>1.13866742596811</td>\n",
      "[Phrase(Doc: 21223598-1755-8794-4-4-s2, Table: 0, Row: 1, Col: 2, Position: 0, Text: 1.13866742596811)]\n",
      "<td>0.0518</td>\n",
      "[Phrase(Doc: 21223598-1755-8794-4-4-s2, Table: 0, Row: 1, Col: 3, Position: 0, Text: 0.0518)]\n",
      "<td>0.0473</td>\n",
      "[Phrase(Doc: 21223598-1755-8794-4-4-s2, Table: 0, Row: 1, Col: 4, Position: 0, Text: 0.0473)]\n",
      "<td>2</td>\n",
      "[Phrase(Doc: 21223598-1755-8794-4-4-s2, Table: 0, Row: 2, Col: 0, Position: 0, Text: 2)]\n",
      "<td>3.512</td>\n",
      "[Phrase(Doc: 21223598-1755-8794-4-4-s2, Table: 0, Row: 2, Col: 1, Position: 0, Text: 3.512)]\n",
      "<td>0.017676035931614</td>\n",
      "[Phrase(Doc: 21223598-1755-8794-4-4-s2, Table: 0, Row: 2, Col: 2, Position: 0, Text: 0.017676035931614)]\n",
      "<td>0.0162</td>\n",
      "[Phrase(Doc: 21223598-1755-8794-4-4-s2, Table: 0, Row: 2, Col: 3, Position: 0, Text: 0.0162)]\n",
      "<td>0.0017</td>\n",
      "[Phrase(Doc: 21223598-1755-8794-4-4-s2, Table: 0, Row: 2, Col: 4, Position: 0, Text: 0.0017)]\n",
      "<td>3</td>\n",
      "[Phrase(Doc: 21223598-1755-8794-4-4-s2, Table: 0, Row: 3, Col: 0, Position: 0, Text: 3)]\n",
      "<td>3.451</td>\n",
      "[Phrase(Doc: 21223598-1755-8794-4-4-s2, Table: 0, Row: 3, Col: 1, Position: 0, Text: 3.451)]\n",
      "<td>0.0473444613050076</td>\n",
      "[Phrase(Doc: 21223598-1755-8794-4-4-s2, Table: 0, Row: 3, Col: 2, Position: 0, Text: 0.0473444613050076)]\n",
      "<td>0.0221</td>\n",
      "[Phrase(Doc: 21223598-1755-8794-4-4-s2, Table: 0, Row: 3, Col: 3, Position: 0, Text: 0.0221)]\n",
      "<td>0.0036</td>\n",
      "[Phrase(Doc: 21223598-1755-8794-4-4-s2, Table: 0, Row: 3, Col: 4, Position: 0, Text: 0.0036)]\n",
      "<td>4</td>\n",
      "[Phrase(Doc: 21223598-1755-8794-4-4-s2, Table: 0, Row: 4, Col: 0, Position: 0, Text: 4)]\n",
      "<td>3.295</td>\n",
      "[Phrase(Doc: 21223598-1755-8794-4-4-s2, Table: 0, Row: 4, Col: 1, Position: 0, Text: 3.295)]\n",
      "<td>0.0397601767118965</td>\n",
      "[Phrase(Doc: 21223598-1755-8794-4-4-s2, Table: 0, Row: 4, Col: 2, Position: 0, Text: 0.0397601767118965)]\n",
      "<td>0.0068</td>\n",
      "[Phrase(Doc: 21223598-1755-8794-4-4-s2, Table: 0, Row: 4, Col: 3, Position: 0, Text: 0.0068)]\n",
      "<td>0.0002</td>\n",
      "[Phrase(Doc: 21223598-1755-8794-4-4-s2, Table: 0, Row: 4, Col: 4, Position: 0, Text: 0.0002)]\n",
      "<td>5</td>\n",
      "[Phrase(Doc: 21223598-1755-8794-4-4-s2, Table: 0, Row: 5, Col: 0, Position: 0, Text: 5)]\n",
      "<td>3.169</td>\n",
      "[Phrase(Doc: 21223598-1755-8794-4-4-s2, Table: 0, Row: 5, Col: 1, Position: 0, Text: 3.169)]\n",
      "<td>0.0176621708413616</td>\n",
      "[Phrase(Doc: 21223598-1755-8794-4-4-s2, Table: 0, Row: 5, Col: 2, Position: 0, Text: 0.0176621708413616)]\n",
      "<td></td>\n",
      "[]\n",
      "<td></td>\n",
      "[]\n",
      "<td>6</td>\n",
      "[Phrase(Doc: 21223598-1755-8794-4-4-s2, Table: 0, Row: 6, Col: 0, Position: 0, Text: 6)]\n",
      "<td>3.114</td>\n",
      "[Phrase(Doc: 21223598-1755-8794-4-4-s2, Table: 0, Row: 6, Col: 1, Position: 0, Text: 3.114)]\n",
      "<td>0.0100551410963346</td>\n",
      "[Phrase(Doc: 21223598-1755-8794-4-4-s2, Table: 0, Row: 6, Col: 2, Position: 0, Text: 0.0100551410963346)]\n",
      "<td></td>\n",
      "[]\n",
      "<td></td>\n",
      "[]\n",
      "<td>7</td>\n",
      "[Phrase(Doc: 21223598-1755-8794-4-4-s2, Table: 0, Row: 7, Col: 0, Position: 0, Text: 7)]\n",
      "<td>3.083</td>\n",
      "[Phrase(Doc: 21223598-1755-8794-4-4-s2, Table: 0, Row: 7, Col: 1, Position: 0, Text: 3.083)]\n",
      "<td>0.00949574328749193</td>\n",
      "[Phrase(Doc: 21223598-1755-8794-4-4-s2, Table: 0, Row: 7, Col: 2, Position: 0, Text: 0.00949574328749193)]\n",
      "<td></td>\n",
      "[]\n",
      "<td></td>\n",
      "[]\n",
      "<td>8</td>\n",
      "[Phrase(Doc: 21223598-1755-8794-4-4-s2, Table: 0, Row: 8, Col: 0, Position: 0, Text: 8)]\n",
      "<td>3.054</td>\n",
      "[Phrase(Doc: 21223598-1755-8794-4-4-s2, Table: 0, Row: 8, Col: 1, Position: 0, Text: 3.054)]\n",
      "<td>0.0119284294234593</td>\n",
      "[Phrase(Doc: 21223598-1755-8794-4-4-s2, Table: 0, Row: 8, Col: 2, Position: 0, Text: 0.0119284294234593)]\n",
      "<td></td>\n",
      "[]\n",
      "<td></td>\n",
      "[]\n",
      "<td>9</td>\n",
      "[Phrase(Doc: 21223598-1755-8794-4-4-s2, Table: 0, Row: 9, Col: 0, Position: 0, Text: 9)]\n",
      "<td>3.018</td>\n",
      "[Phrase(Doc: 21223598-1755-8794-4-4-s2, Table: 0, Row: 9, Col: 1, Position: 0, Text: 3.018)]\n",
      "<td>0.00667111407605056</td>\n",
      "[Phrase(Doc: 21223598-1755-8794-4-4-s2, Table: 0, Row: 9, Col: 2, Position: 0, Text: 0.00667111407605056)]\n",
      "<td></td>\n",
      "[]\n",
      "<td></td>\n",
      "[]\n",
      "<td>SNP</td>\n",
      "[Phrase(Doc: 24571439-gbb-13-418-sd1, Table: 0, Row: 0, Col: 0, Position: 0, Text: SNP)]\n",
      "<td>Chromosome</td>\n",
      "[Phrase(Doc: 24571439-gbb-13-418-sd1, Table: 0, Row: 0, Col: 1, Position: 0, Text: Chromosome)]\n",
      "<td>Position (hg18)</td>\n",
      "[Phrase(Doc: 24571439-gbb-13-418-sd1, Table: 0, Row: 0, Col: 2, Position: 0, Text: Position (hg18))]\n",
      "<td>P-value for paternal association</td>\n",
      "[Phrase(Doc: 24571439-gbb-13-418-sd1, Table: 0, Row: 0, Col: 3, Position: 0, Text: P-value for paternal association)]\n",
      "<td>MAF in SLIC (founders)</td>\n",
      "[Phrase(Doc: 24571439-gbb-13-418-sd1, Table: 0, Row: 0, Col: 4, Position: 0, Text: MAF in SLIC (founders))]\n",
      "<td>gene</td>\n",
      "[Phrase(Doc: 24571439-gbb-13-418-sd1, Table: 0, Row: 0, Col: 5, Position: 0, Text: gene)]\n",
      "<td>left_gene</td>\n",
      "[Phrase(Doc: 24571439-gbb-13-418-sd1, Table: 0, Row: 0, Col: 6, Position: 0, Text: left_gene)]\n",
      "<td>right_gene</td>\n",
      "[Phrase(Doc: 24571439-gbb-13-418-sd1, Table: 0, Row: 0, Col: 7, Position: 0, Text: right_gene)]\n",
      "<td>rs4280164</td>\n",
      "[Phrase(Doc: 24571439-gbb-13-418-sd1, Table: 0, Row: 1, Col: 0, Position: 0, Text: rs4280164)]\n",
      "<td>14</td>\n",
      "[Phrase(Doc: 24571439-gbb-13-418-sd1, Table: 0, Row: 1, Col: 1, Position: 0, Text: 14)]\n",
      "<td>23841124</td>\n",
      "[Phrase(Doc: 24571439-gbb-13-418-sd1, Table: 0, Row: 1, Col: 2, Position: 0, Text: 23841124)]\n",
      "<td>0.00000003742591</td>\n",
      "[Phrase(Doc: 24571439-gbb-13-418-sd1, Table: 0, Row: 1, Col: 3, Position: 0, Text: 0.00000003742591)]\n",
      "<td>0.2329</td>\n",
      "[Phrase(Doc: 24571439-gbb-13-418-sd1, Table: 0, Row: 1, Col: 4, Position: 0, Text: 0.2329)]\n",
      "<td>C14orf21</td>\n",
      "[Phrase(Doc: 24571439-gbb-13-418-sd1, Table: 0, Row: 1, Col: 5, Position: 0, Text: C14orf21)]\n",
      "<td>DHRS1</td>\n",
      "[Phrase(Doc: 24571439-gbb-13-418-sd1, Table: 0, Row: 1, Col: 6, Position: 0, Text: DHRS1)]\n",
      "<td>CIDEB</td>\n",
      "[Phrase(Doc: 24571439-gbb-13-418-sd1, Table: 0, Row: 1, Col: 7, Position: 0, Text: CIDEB)]\n",
      "<td>rs11158632</td>\n",
      "[Phrase(Doc: 24571439-gbb-13-418-sd1, Table: 0, Row: 2, Col: 0, Position: 0, Text: rs11158632)]\n",
      "<td>14</td>\n",
      "[Phrase(Doc: 24571439-gbb-13-418-sd1, Table: 0, Row: 2, Col: 1, Position: 0, Text: 14)]\n",
      "<td>23839502</td>\n",
      "[Phrase(Doc: 24571439-gbb-13-418-sd1, Table: 0, Row: 2, Col: 2, Position: 0, Text: 23839502)]\n",
      "<td>0.00000004617634</td>\n",
      "[Phrase(Doc: 24571439-gbb-13-418-sd1, Table: 0, Row: 2, Col: 3, Position: 0, Text: 0.00000004617634)]\n",
      "<td>0.2323</td>\n",
      "[Phrase(Doc: 24571439-gbb-13-418-sd1, Table: 0, Row: 2, Col: 4, Position: 0, Text: 0.2323)]\n",
      "<td>C14orf21</td>\n",
      "[Phrase(Doc: 24571439-gbb-13-418-sd1, Table: 0, Row: 2, Col: 5, Position: 0, Text: C14orf21)]\n",
      "<td>DHRS1</td>\n",
      "[Phrase(Doc: 24571439-gbb-13-418-sd1, Table: 0, Row: 2, Col: 6, Position: 0, Text: DHRS1)]\n",
      "<td>CIDEB</td>\n",
      "[Phrase(Doc: 24571439-gbb-13-418-sd1, Table: 0, Row: 2, Col: 7, Position: 0, Text: CIDEB)]\n",
      "<td>rs2144494</td>\n",
      "[Phrase(Doc: 24571439-gbb-13-418-sd1, Table: 0, Row: 3, Col: 0, Position: 0, Text: rs2144494)]\n",
      "<td>14</td>\n",
      "[Phrase(Doc: 24571439-gbb-13-418-sd1, Table: 0, Row: 3, Col: 1, Position: 0, Text: 14)]\n",
      "<td>23843226</td>\n",
      "[Phrase(Doc: 24571439-gbb-13-418-sd1, Table: 0, Row: 3, Col: 2, Position: 0, Text: 23843226)]\n",
      "<td>0.00000004939463</td>\n",
      "[Phrase(Doc: 24571439-gbb-13-418-sd1, Table: 0, Row: 3, Col: 3, Position: 0, Text: 0.00000004939463)]\n",
      "<td>0.2317</td>\n",
      "[Phrase(Doc: 24571439-gbb-13-418-sd1, Table: 0, Row: 3, Col: 4, Position: 0, Text: 0.2317)]\n",
      "<td>C14orf21 CIDEB</td>\n",
      "[Phrase(Doc: 24571439-gbb-13-418-sd1, Table: 0, Row: 3, Col: 5, Position: 0, Text: C14orf21 CIDEB)]\n",
      "<td>DHRS1</td>\n",
      "[Phrase(Doc: 24571439-gbb-13-418-sd1, Table: 0, Row: 3, Col: 6, Position: 0, Text: DHRS1)]\n",
      "<td>CIDEB</td>\n",
      "[Phrase(Doc: 24571439-gbb-13-418-sd1, Table: 0, Row: 3, Col: 7, Position: 0, Text: CIDEB)]\n",
      "<td>rs2281472</td>\n",
      "[Phrase(Doc: 24571439-gbb-13-418-sd1, Table: 0, Row: 4, Col: 0, Position: 0, Text: rs2281472)]\n",
      "<td>14</td>\n",
      "[Phrase(Doc: 24571439-gbb-13-418-sd1, Table: 0, Row: 4, Col: 1, Position: 0, Text: 14)]\n",
      "<td>23845685</td>\n",
      "[Phrase(Doc: 24571439-gbb-13-418-sd1, Table: 0, Row: 4, Col: 2, Position: 0, Text: 23845685)]\n",
      "<td>0.0000001124436</td>\n",
      "[Phrase(Doc: 24571439-gbb-13-418-sd1, Table: 0, Row: 4, Col: 3, Position: 0, Text: 0.0000001124436)]\n",
      "<td>0.2537</td>\n",
      "[Phrase(Doc: 24571439-gbb-13-418-sd1, Table: 0, Row: 4, Col: 4, Position: 0, Text: 0.2537)]\n",
      "<td>CIDEB</td>\n",
      "[Phrase(Doc: 24571439-gbb-13-418-sd1, Table: 0, Row: 4, Col: 5, Position: 0, Text: CIDEB)]\n",
      "<td>C14orf21</td>\n",
      "[Phrase(Doc: 24571439-gbb-13-418-sd1, Table: 0, Row: 4, Col: 6, Position: 0, Text: C14orf21)]\n",
      "<td>LTB4R2</td>\n",
      "[Phrase(Doc: 24571439-gbb-13-418-sd1, Table: 0, Row: 4, Col: 7, Position: 0, Text: LTB4R2)]\n",
      "<td>rs7801303</td>\n",
      "[Phrase(Doc: 24571439-gbb-13-418-sd1, Table: 0, Row: 5, Col: 0, Position: 0, Text: rs7801303)]\n",
      "<td>7</td>\n",
      "[Phrase(Doc: 24571439-gbb-13-418-sd1, Table: 0, Row: 5, Col: 1, Position: 0, Text: 7)]\n",
      "<td>40884595</td>\n",
      "[Phrase(Doc: 24571439-gbb-13-418-sd1, Table: 0, Row: 5, Col: 2, Position: 0, Text: 40884595)]\n",
      "<td>0.000000350755</td>\n",
      "[Phrase(Doc: 24571439-gbb-13-418-sd1, Table: 0, Row: 5, Col: 3, Position: 0, Text: 0.000000350755)]\n",
      "<td>0.4416</td>\n",
      "[Phrase(Doc: 24571439-gbb-13-418-sd1, Table: 0, Row: 5, Col: 4, Position: 0, Text: 0.4416)]\n",
      "<td>NA</td>\n",
      "[Phrase(Doc: 24571439-gbb-13-418-sd1, Table: 0, Row: 5, Col: 5, Position: 0, Text: NA)]\n",
      "<td>C7orf10</td>\n",
      "[Phrase(Doc: 24571439-gbb-13-418-sd1, Table: 0, Row: 5, Col: 6, Position: 0, Text: C7orf10)]\n",
      "<td>INHBA</td>\n",
      "[Phrase(Doc: 24571439-gbb-13-418-sd1, Table: 0, Row: 5, Col: 7, Position: 0, Text: INHBA)]\n",
      "<td>rs3181384</td>\n",
      "[Phrase(Doc: 24571439-gbb-13-418-sd1, Table: 0, Row: 6, Col: 0, Position: 0, Text: rs3181384)]\n",
      "<td>14</td>\n",
      "[Phrase(Doc: 24571439-gbb-13-418-sd1, Table: 0, Row: 6, Col: 1, Position: 0, Text: 14)]\n",
      "<td>rs_snp</td>\n",
      "[Phrase(Doc: 21223598-1755-8794-4-4-s3, Table: 0, Row: 0, Col: 0, Position: 0, Text: rs_snp)]\n",
      "<td>affy_snp</td>\n",
      "[Phrase(Doc: 21223598-1755-8794-4-4-s3, Table: 0, Row: 0, Col: 1, Position: 0, Text: affy_snp)]\n",
      "<td>chr</td>\n",
      "[Phrase(Doc: 21223598-1755-8794-4-4-s3, Table: 0, Row: 0, Col: 2, Position: 0, Text: chr)]\n",
      "<td>bp</td>\n",
      "[Phrase(Doc: 21223598-1755-8794-4-4-s3, Table: 0, Row: 0, Col: 3, Position: 0, Text: bp)]\n",
      "<td>overall_p</td>\n",
      "[Phrase(Doc: 21223598-1755-8794-4-4-s3, Table: 0, Row: 0, Col: 4, Position: 0, Text: overall_p)]\n",
      "<td>snp_estimate</td>\n",
      "[Phrase(Doc: 21223598-1755-8794-4-4-s3, Table: 0, Row: 0, Col: 5, Position: 0, Text: snp_estimate)]\n",
      "<td>snp_se</td>\n",
      "[Phrase(Doc: 21223598-1755-8794-4-4-s3, Table: 0, Row: 0, Col: 6, Position: 0, Text: snp_se)]\n",
      "<td>snp_p</td>\n",
      "[Phrase(Doc: 21223598-1755-8794-4-4-s3, Table: 0, Row: 0, Col: 7, Position: 0, Text: snp_p)]\n",
      "<td>snp_maf</td>\n",
      "[Phrase(Doc: 21223598-1755-8794-4-4-s3, Table: 0, Row: 0, Col: 8, Position: 0, Text: snp_maf)]\n",
      "<td>cnv_estimate</td>\n",
      "[Phrase(Doc: 21223598-1755-8794-4-4-s3, Table: 0, Row: 0, Col: 9, Position: 0, Text: cnv_estimate)]\n",
      "<td>cnv_se</td>\n",
      "[Phrase(Doc: 21223598-1755-8794-4-4-s3, Table: 0, Row: 0, Col: 10, Position: 0, Text: cnv_se)]\n",
      "<td>cnv_p</td>\n",
      "[Phrase(Doc: 21223598-1755-8794-4-4-s3, Table: 0, Row: 0, Col: 11, Position: 0, Text: cnv_p)]\n",
      "<td>cnv_freq</td>\n",
      "[Phrase(Doc: 21223598-1755-8794-4-4-s3, Table: 0, Row: 0, Col: 12, Position: 0, Text: cnv_freq)]\n",
      "<td>rs6045676</td>\n",
      "[Phrase(Doc: 21223598-1755-8794-4-4-s3, Table: 0, Row: 1, Col: 0, Position: 0, Text: rs6045676)]\n",
      "<td>SNP_A-2204198</td>\n",
      "[Phrase(Doc: 21223598-1755-8794-4-4-s3, Table: 0, Row: 1, Col: 1, Position: 0, Text: SNP_A-2204198)]\n",
      "<td>20</td>\n",
      "[Phrase(Doc: 21223598-1755-8794-4-4-s3, Table: 0, Row: 1, Col: 2, Position: 0, Text: 20)]\n",
      "<td>1889171</td>\n",
      "[Phrase(Doc: 21223598-1755-8794-4-4-s3, Table: 0, Row: 1, Col: 3, Position: 0, Text: 1889171)]\n",
      "<td>0.0000000328</td>\n",
      "[Phrase(Doc: 21223598-1755-8794-4-4-s3, Table: 0, Row: 1, Col: 4, Position: 0, Text: 0.0000000328)]\n",
      "<td>0.012582025</td>\n",
      "[Phrase(Doc: 21223598-1755-8794-4-4-s3, Table: 0, Row: 1, Col: 5, Position: 0, Text: 0.012582025)]\n",
      "<td>0.002264721</td>\n",
      "[Phrase(Doc: 21223598-1755-8794-4-4-s3, Table: 0, Row: 1, Col: 6, Position: 0, Text: 0.002264721)]\n",
      "<td>0.0000000328</td>\n",
      "[Phrase(Doc: 21223598-1755-8794-4-4-s3, Table: 0, Row: 1, Col: 7, Position: 0, Text: 0.0000000328)]\n",
      "<td>0.350802644</td>\n",
      "[Phrase(Doc: 21223598-1755-8794-4-4-s3, Table: 0, Row: 1, Col: 8, Position: 0, Text: 0.350802644)]\n",
      "<td></td>\n",
      "[]\n",
      "<td></td>\n",
      "[]\n",
      "<td></td>\n",
      "[]\n",
      "<td>0</td>\n",
      "[Phrase(Doc: 21223598-1755-8794-4-4-s3, Table: 0, Row: 1, Col: 12, Position: 0, Text: 0)]\n",
      "<td>rs10263935</td>\n",
      "[Phrase(Doc: 21223598-1755-8794-4-4-s3, Table: 0, Row: 2, Col: 0, Position: 0, Text: rs10263935)]\n",
      "<td>SNP_A-2272176</td>\n",
      "[Phrase(Doc: 21223598-1755-8794-4-4-s3, Table: 0, Row: 2, Col: 1, Position: 0, Text: SNP_A-2272176)]\n",
      "<td>7</td>\n",
      "[Phrase(Doc: 21223598-1755-8794-4-4-s3, Table: 0, Row: 2, Col: 2, Position: 0, Text: 7)]\n",
      "<td>65733463</td>\n",
      "[Phrase(Doc: 21223598-1755-8794-4-4-s3, Table: 0, Row: 2, Col: 3, Position: 0, Text: 65733463)]\n",
      "<td>0.000000426</td>\n",
      "[Phrase(Doc: 21223598-1755-8794-4-4-s3, Table: 0, Row: 2, Col: 4, Position: 0, Text: 0.000000426)]\n",
      "<td>-0.011415693</td>\n",
      "[Phrase(Doc: 21223598-1755-8794-4-4-s3, Table: 0, Row: 2, Col: 5, Position: 0, Text: -0.011415693)]\n",
      "<td>0.002284457</td>\n",
      "[Phrase(Doc: 21223598-1755-8794-4-4-s3, Table: 0, Row: 2, Col: 6, Position: 0, Text: 0.002284457)]\n",
      "<td>0.000000591</td>\n",
      "[Phrase(Doc: 21223598-1755-8794-4-4-s3, Table: 0, Row: 2, Col: 7, Position: 0, Text: 0.000000591)]\n",
      "<td>0.323661831</td>\n",
      "[Phrase(Doc: 21223598-1755-8794-4-4-s3, Table: 0, Row: 2, Col: 8, Position: 0, Text: 0.323661831)]\n",
      "<td>0.069159245</td>\n",
      "[Phrase(Doc: 21223598-1755-8794-4-4-s3, Table: 0, Row: 2, Col: 9, Position: 0, Text: 0.069159245)]\n",
      "<td>0.029575558</td>\n",
      "[Phrase(Doc: 21223598-1755-8794-4-4-s3, Table: 0, Row: 2, Col: 10, Position: 0, Text: 0.029575558)]\n",
      "<td>0.019073262</td>\n",
      "[Phrase(Doc: 21223598-1755-8794-4-4-s3, Table: 0, Row: 2, Col: 11, Position: 0, Text: 0.019073262)]\n",
      "<td>0.003009027</td>\n",
      "[Phrase(Doc: 21223598-1755-8794-4-4-s3, Table: 0, Row: 2, Col: 12, Position: 0, Text: 0.003009027)]\n",
      "<td>AFFX-SNP_9317457__rs10263935</td>\n",
      "[Phrase(Doc: 21223598-1755-8794-4-4-s3, Table: 0, Row: 3, Col: 0, Position: 0, Text: AFFX-SNP_9317457__rs10263935)]\n",
      "<td>AFFX-SNP_9317457</td>\n",
      "[Phrase(Doc: 21223598-1755-8794-4-4-s3, Table: 0, Row: 3, Col: 1, Position: 0, Text: AFFX-SNP_9317457)]\n",
      "<td>7</td>\n",
      "[Phrase(Doc: 21223598-1755-8794-4-4-s3, Table: 0, Row: 3, Col: 2, Position: 0, Text: 7)]\n",
      "<td>65733463</td>\n",
      "[Phrase(Doc: 21223598-1755-8794-4-4-s3, Table: 0, Row: 3, Col: 3, Position: 0, Text: 65733463)]\n",
      "<td>0.00000062</td>\n",
      "[Phrase(Doc: 21223598-1755-8794-4-4-s3, Table: 0, Row: 3, Col: 4, Position: 0, Text: 0.00000062)]\n",
      "<td>-0.011245819</td>\n",
      "[Phrase(Doc: 21223598-1755-8794-4-4-s3, Table: 0, Row: 3, Col: 5, Position: 0, Text: -0.011245819)]\n",
      "<td>0.00222542</td>\n",
      "[Phrase(Doc: 21223598-1755-8794-4-4-s3, Table: 0, Row: 3, Col: 6, Position: 0, Text: 0.00222542)]\n",
      "<td>0.000000445</td>\n",
      "[Phrase(Doc: 21223598-1755-8794-4-4-s3, Table: 0, Row: 3, Col: 7, Position: 0, Text: 0.000000445)]\n",
      "<td>0.331926864</td>\n",
      "[Phrase(Doc: 21223598-1755-8794-4-4-s3, Table: 0, Row: 3, Col: 8, Position: 0, Text: 0.331926864)]\n",
      "<td>0.061431572</td>\n",
      "[Phrase(Doc: 21223598-1755-8794-4-4-s3, Table: 0, Row: 3, Col: 9, Position: 0, Text: 0.061431572)]\n",
      "<td>0.029327776</td>\n",
      "[Phrase(Doc: 21223598-1755-8794-4-4-s3, Table: 0, Row: 3, Col: 10, Position: 0, Text: 0.029327776)]\n"
     ]
    }
   ],
   "source": [
    "for d in corpus.documents:\n",
    "    if d.tables: \n",
    "        for c in d.tables[0].cells[:50]:\n",
    "            print c.text\n",
    "            print c.phrases\n",
    "#     if '1471-2261-11-29-s12' in d.name:\n",
    "#         print d, d.meta['root'][:100]"
   ]
  },
  {
   "cell_type": "code",
   "execution_count": 9,
   "metadata": {
    "collapsed": false
   },
   "outputs": [
    {
     "name": "stdout",
     "output_type": "stream",
     "text": [
      "01471-2261-11-29-s1.html\n"
     ]
    }
   ],
   "source": [
    "print corpus.documents[0].name"
   ]
  },
  {
   "cell_type": "code",
   "execution_count": 5,
   "metadata": {
    "collapsed": true
   },
   "outputs": [],
   "source": [
    "import lxml.etree as et"
   ]
  },
  {
   "cell_type": "code",
   "execution_count": 13,
   "metadata": {
    "collapsed": false
   },
   "outputs": [],
   "source": [
    "d=et.parse('/Users/kuleshov/Downloads/gwas_supp2/doc/1471-2261-11-29-s12.html', et.HTMLParser()).xpath('.//table')"
   ]
  },
  {
   "cell_type": "markdown",
   "metadata": {},
   "source": [
    "### Defining candidate matchers"
   ]
  },
  {
   "cell_type": "markdown",
   "metadata": {},
   "source": [
    "We genereate RSid candidates from all spans that match the following regular expression."
   ]
  },
  {
   "cell_type": "code",
   "execution_count": 10,
   "metadata": {
    "collapsed": true
   },
   "outputs": [],
   "source": [
    "from snorkel.matchers import RegexMatchSpan\n",
    "rsid_matcher = RegexMatchSpan(rgx=r'rs\\d+(/[ATCG]{1,2})*$')"
   ]
  },
  {
   "cell_type": "markdown",
   "metadata": {},
   "source": [
    "Similarly, p-value candidates are all spans that match the following regular expression."
   ]
  },
  {
   "cell_type": "code",
   "execution_count": 11,
   "metadata": {
    "collapsed": false
   },
   "outputs": [],
   "source": [
    "from snorkel.candidates import TableNgrams\n",
    "from snorkel.matchers import RegexMatchSpan, Union\n",
    "\n",
    "# 1: p-value matcher\n",
    "\n",
    "rgx1 = u'[1-9]\\d?[\\xb7\\.]?\\d*[\\s\\u2009]*[\\xd7\\xb7\\*][\\s\\u2009]*10[\\s\\u2009]*[-\\u2212\\u2013\\u2012][\\s\\u2009]*\\d+'\n",
    "pval_rgx_matcher1 = RegexMatchSpan(rgx=rgx1)\n",
    "rgx2 = u'[1-9]\\d?[\\xb7\\.]?\\d*[\\s\\u2009]*[eE][\\s\\u2009]*[-\\u2212\\u2013\\u2012][\\s\\u2009]*\\d+'\n",
    "pval_rgx_matcher2 = RegexMatchSpan(rgx=rgx2)\n",
    "rgx3 = u'0\\.0000+\\d+'\n",
    "pval_rgx_matcher3 = RegexMatchSpan(rgx=rgx3)\n",
    "pval_rgx_matcher = Union(pval_rgx_matcher1, pval_rgx_matcher2, pval_rgx_matcher3)\n",
    "\n",
    "# 2: column-based matcher (currently not used)\n",
    "\n",
    "from snorkel.matchers import CellNameRegexMatcher\n",
    "\n",
    "pval_rgx = 'p\\s?.?\\s?value'\n",
    "pval_rgxname_matcher = CellNameRegexMatcher(axis='col', rgx=pval_rgx, n_max=3, ignore_case=True, header_only=True, max_chars=20)\n",
    "\n",
    "# 3: combine the two\n",
    "\n",
    "pval_matcher = Union(pval_rgx_matcher, pval_rgxname_matcher)"
   ]
  },
  {
   "cell_type": "markdown",
   "metadata": {},
   "source": [
    "## Extract candidate relations between SNPs and p-values"
   ]
  },
  {
   "cell_type": "code",
   "execution_count": 12,
   "metadata": {
    "collapsed": true
   },
   "outputs": [],
   "source": [
    "# create a Snorkel class for the relation we will extract\n",
    "from snorkel.models import candidate_subclass\n",
    "RsidPhenRel = candidate_subclass('RsidPvalRel', ['rsid','pval'])\n",
    "\n",
    "# define our candidate spaces\n",
    "from snorkel.candidates import TableNgrams\n",
    "unigrams = TableNgrams(n_max=1)\n",
    "heptagrams = TableNgrams(n_max=7)\n",
    "\n",
    "# we will be looking only at aligned cells\n",
    "from snorkel.throttlers import AlignmentThrottler\n",
    "row_align_filter = AlignmentThrottler(axis='row', infer=False)\n",
    "\n",
    "# the first extractor looks at phenotype names in columns with a header indicating it's a phenotype\n",
    "from snorkel.candidates import CandidateExtractor\n",
    "ce = CandidateExtractor(RsidPhenRel, [unigrams, heptagrams], [rsid_matcher, pval_rgx_matcher], throttler=row_align_filter)\n",
    "\n",
    "# collect that cells that will be searched for candidates\n",
    "tables = [table for doc in corpus.documents for table in doc.tables]"
   ]
  },
  {
   "cell_type": "code",
   "execution_count": 18,
   "metadata": {
    "collapsed": false
   },
   "outputs": [
    {
     "name": "stdout",
     "output_type": "stream",
     "text": [
      "495 relations extracted, e.g.\n",
      "RsidPvalRel(Span(\"rs2243504\", parent=35607, chars=[0,8], words=[0,0]), Span(\"0.00002165404\", parent=35610, chars=[0,12], words=[0,0]))\n",
      "RsidPvalRel(Span(\"rs9825324\", parent=36167, chars=[0,8], words=[0,0]), Span(\"0.00009167234\", parent=36170, chars=[0,12], words=[0,0]))\n",
      "RsidPvalRel(Span(\"rs6894496\", parent=35639, chars=[0,8], words=[0,0]), Span(\"0.00002495544\", parent=35642, chars=[0,12], words=[0,0]))\n",
      "RsidPvalRel(Span(\"rs2910597\", parent=36103, chars=[0,8], words=[0,0]), Span(\"0.00008622475\", parent=36106, chars=[0,12], words=[0,0]))\n",
      "RsidPvalRel(Span(\"rs9296092\", parent=35999, chars=[0,8], words=[0,0]), Span(\"0.00006919188\", parent=36002, chars=[0,12], words=[0,0]))\n",
      "RsidPvalRel(Span(\"rs166315\", parent=36071, chars=[0,7], words=[0,0]), Span(\"0.00007825004\", parent=36074, chars=[0,12], words=[0,0]))\n",
      "RsidPvalRel(Span(\"rs12656156\", parent=35951, chars=[0,9], words=[0,0]), Span(\"0.00006416992\", parent=35954, chars=[0,12], words=[0,0]))\n",
      "RsidPvalRel(Span(\"rs3912513\", parent=35839, chars=[0,8], words=[0,0]), Span(\"0.00005197301\", parent=35842, chars=[0,12], words=[0,0]))\n",
      "RsidPvalRel(Span(\"rs4746834\", parent=36079, chars=[0,8], words=[0,0]), Span(\"0.00008123329\", parent=36082, chars=[0,12], words=[0,0]))\n",
      "RsidPvalRel(Span(\"rs259463\", parent=35975, chars=[0,7], words=[0,0]), Span(\"0.0000667244\", parent=35978, chars=[0,11], words=[0,0]))\n"
     ]
    }
   ],
   "source": [
    "from snorkel.models import CandidateSet\n",
    "    \n",
    "try:\n",
    "    rels = session.query(CandidateSet).filter(CandidateSet.name == 'RsidPvalRel Relations 2').one()\n",
    "except:\n",
    "    %time rels = ce.extract(tables, 'RsidPvalRel Relations 2', session)\n",
    "    session.add(rels)\n",
    "    session.commit()\n",
    "\n",
    "print \"%s relations extracted, e.g.\" % len(rels)\n",
    "for cand in rels[:10]:\n",
    "    print cand"
   ]
  },
  {
   "cell_type": "markdown",
   "metadata": {},
   "source": [
    "#### Save this for now"
   ]
  },
  {
   "cell_type": "code",
   "execution_count": 19,
   "metadata": {
    "collapsed": false
   },
   "outputs": [],
   "source": [
    "import re\n",
    "from extractor.util import pvalue_to_float\n",
    "\n",
    "def clean_rsid(rsid):\n",
    "    return re.sub('/.+', '', rsid)\n",
    "\n",
    "with open('results/nb-output/supp-pval-rsid.tsv', 'w') as f:\n",
    "    for rel in rels:\n",
    "        docname = rel[0].parent.document.name\n",
    "        pmid = docname.split('-')[0]\n",
    "        table_id = rel[0].parent.table.position\n",
    "        row_id = rel[0].parent.cell.row.position\n",
    "        col_id = rel[0].parent.cell.col.position\n",
    "        rsid = rel[0].get_span()\n",
    "        log_pval = pvalue_to_float(rel[1].get_span())\n",
    "        \n",
    "        try:\n",
    "            out_str = '%s\\t%s\\t%d\\t%d\\t%d\\t%f\\n' % (pmid, clean_rsid(rsid), table_id, row_id, col_id, log_pval)\n",
    "        except:\n",
    "            print 'could not write:', pmid, clean_rsid(rsid), table_id, row_id, col_id, log_pval\n",
    "        f.write(out_str)"
   ]
  },
  {
   "cell_type": "markdown",
   "metadata": {},
   "source": [
    "## Extracting singleton SNPs"
   ]
  },
  {
   "cell_type": "markdown",
   "metadata": {},
   "source": [
    "There also exist many papers that don't report p-values. To handle these, we also report certain rsids that have *not* been associated with a p-value.\n",
    "\n",
    "Here, we extract these entites. Later on, we will filter them."
   ]
  },
  {
   "cell_type": "code",
   "execution_count": 12,
   "metadata": {
    "collapsed": false
   },
   "outputs": [],
   "source": [
    "# Define the extractor\n",
    "from snorkel.models import candidate_subclass\n",
    "from snorkel.matchers import RegexMatchSpan\n",
    "from snorkel.candidates import CandidateExtractor\n",
    "\n",
    "RSID = candidate_subclass('SnorkelRsid 2', ['rsid'])\n",
    "\n",
    "unigrams = TableNgrams(n_max=1)\n",
    "rsid_singleton_matcher = RegexMatchSpan(rgx=r'rs\\d+(/[^s]+)?')\n",
    "rsid_singleton_extractor = CandidateExtractor(RSID, unigrams, rsid_singleton_matcher)"
   ]
  },
  {
   "cell_type": "markdown",
   "metadata": {},
   "source": [
    "Perform the extraction process."
   ]
  },
  {
   "cell_type": "code",
   "execution_count": 13,
   "metadata": {
    "collapsed": false
   },
   "outputs": [
    {
     "name": "stdout",
     "output_type": "stream",
     "text": [
      "1648 tables loaded\n",
      "[========================================] 100%\n",
      "CPU times: user 3min 31s, sys: 1min 13s, total: 4min 44s\n",
      "Wall time: 4min 48s\n",
      "15333 candidates extracted\n"
     ]
    }
   ],
   "source": [
    "from snorkel.models import CandidateSet\n",
    "\n",
    "try:\n",
    "    rsid_c = session.query(CandidateSet).filter(CandidateSet.name == 'Rsid Candidates 2').one()\n",
    "except:\n",
    "    tables = [table for doc in corpus.documents for table in doc.tables]\n",
    "    print '%d tables loaded' % len(tables)\n",
    "    %time rsid_c = rsid_singleton_extractor.extract(tables, 'Rsid Candidates 2', session)\n",
    "    session.add(rsid_c)\n",
    "    session.commit()\n",
    "\n",
    "print '%d candidates extracted' % len(rsid_c)"
   ]
  },
  {
   "cell_type": "markdown",
   "metadata": {},
   "source": [
    "We store candidates that occur in sufficiently large tables:"
   ]
  },
  {
   "cell_type": "code",
   "execution_count": 14,
   "metadata": {
    "collapsed": false
   },
   "outputs": [],
   "source": [
    "rsid_by_table = dict()\n",
    "for cand in rsid_c:\n",
    "    rsid = cand[0].get_span()\n",
    "    key = cand[0].parent.document.name, cand[0].parent.table.position\n",
    "    if key not in rsid_by_table: rsid_by_table[key] = set()\n",
    "    rsid_by_table[key].add((rsid, cand[0].parent.cell.row.position, cand[0].parent.cell.col.position))\n",
    "    \n",
    "with open('results/nb-output/rsids.singletons.all.tsv', 'w') as f:\n",
    "    for (pmid, table_id), rsids in rsid_by_table.items():\n",
    "        if len(rsids) < 10: continue\n",
    "        for rsid, row_num, col_num in rsids:\n",
    "            f.write('%s\\t%s\\t%s\\t%s\\t%s\\n' % (pmid, table_id, row_num, col_num, rsid))"
   ]
  },
  {
   "cell_type": "markdown",
   "metadata": {},
   "source": [
    "Here, we store certain table features that will be used to select which singelton rsid's to report."
   ]
  },
  {
   "cell_type": "code",
   "execution_count": 11,
   "metadata": {
    "collapsed": false
   },
   "outputs": [
    {
     "name": "stderr",
     "output_type": "stream",
     "text": [
      "/Library/Python/2.7/site-packages/bs4/__init__.py:181: UserWarning: No parser was explicitly specified, so I'm using the best available HTML parser for this system (\"lxml\"). This usually isn't a problem, but if you run this code on another system, or in a different virtual environment, it may use a different parser and behave differently.\n",
      "\n",
      "The code that caused this warning is on line 162 of the file /System/Library/Frameworks/Python.framework/Versions/2.7/lib/python2.7/runpy.py. To get rid of this warning, change code that looks like this:\n",
      "\n",
      " BeautifulSoup([your markup])\n",
      "\n",
      "to this:\n",
      "\n",
      " BeautifulSoup([your markup], \"lxml\")\n",
      "\n",
      "  markup_type=markup_type))\n"
     ]
    }
   ],
   "source": [
    "import re\n",
    "from bs4 import BeautifulSoup as soup\n",
    "\n",
    "pval_rgx = 'p\\s?.?\\s?value'\n",
    "lod_rgx = 'LOD'\n",
    "\n",
    "def has_pval(txt):\n",
    "    if re.search(pval_rgx, txt, re.IGNORECASE):\n",
    "        return True\n",
    "    elif txt.lower() == 'p':\n",
    "        return True\n",
    "    return False\n",
    "\n",
    "with open('results/nb-output/table-annotations.tsv', 'w') as f:\n",
    "    for doc in corpus.documents:\n",
    "        for table in doc.tables:\n",
    "            lod_found = 0\n",
    "            pval_found = 0\n",
    "            for cell in table.cells:\n",
    "                txt = soup(cell.text).text\n",
    "                if not pval_found and len(txt) < 30 and has_pval(txt):\n",
    "                    pval_found = 1\n",
    "                if not lod_found and re.search(lod_rgx, txt):\n",
    "                    lod_found = 1\n",
    "                if pval_found and lod_found: break\n",
    "                    \n",
    "            out_str = '%s\\t%s\\t%s\\t%s\\n' % (doc.name, table.position, pval_found, lod_found)\n",
    "            f.write(out_str) "
   ]
  },
  {
   "cell_type": "markdown",
   "metadata": {},
   "source": [
    "## Filtering relations"
   ]
  },
  {
   "cell_type": "markdown",
   "metadata": {},
   "source": [
    "Here, we perform a bit of filtering in post-processing."
   ]
  },
  {
   "cell_type": "code",
   "execution_count": 20,
   "metadata": {
    "collapsed": false
   },
   "outputs": [
    {
     "name": "stdout",
     "output_type": "stream",
     "text": [
      "495 495\n"
     ]
    }
   ],
   "source": [
    "rels = []\n",
    "loc2rsid = dict()\n",
    "with open('results/nb-output/supp-pval-rsid.tsv') as f:\n",
    "    for line in f:\n",
    "        pmid, rsid, table_id, row_id, col_id, pval = line.strip().split('\\t')\n",
    "        loc = pmid, table_id, row_id\n",
    "        rels.append((pmid, rsid, table_id, row_id, col_id, pval))\n",
    "        if loc not in loc2rsid: loc2rsid[loc] = set()\n",
    "        loc2rsid[loc].add(rsid)\n",
    "\n",
    "n = 0\n",
    "with open('results/nb-output/supp-pval-rsid.filtered.tsv', 'w') as f:\n",
    "    for rel in rels:\n",
    "        pmid, rsid, table_id, row_id, col_id, pval = rel\n",
    "        loc = pmid, table_id, row_id\n",
    "        if len(loc2rsid[loc]) > 1: continue\n",
    "        \n",
    "        out_str = '%s\\t%s\\t%s\\t%s\\t%s\\t%s\\n' % (pmid, rsid, table_id, row_id, col_id, pval)\n",
    "        f.write(out_str)\n",
    "        n += 1\n",
    "        \n",
    "print len(rels), n"
   ]
  },
  {
   "cell_type": "code",
   "execution_count": null,
   "metadata": {
    "collapsed": true
   },
   "outputs": [],
   "source": []
  }
 ],
 "metadata": {
  "kernelspec": {
   "display_name": "Python 2",
   "language": "python",
   "name": "python2"
  },
  "language_info": {
   "codemirror_mode": {
    "name": "ipython",
    "version": 2
   },
   "file_extension": ".py",
   "mimetype": "text/x-python",
   "name": "python",
   "nbconvert_exporter": "python",
   "pygments_lexer": "ipython2",
   "version": "2.7.2"
  }
 },
 "nbformat": 4,
 "nbformat_minor": 0
}
