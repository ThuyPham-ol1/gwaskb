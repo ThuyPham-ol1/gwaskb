{
 "cells": [
  {
   "cell_type": "markdown",
   "metadata": {},
   "source": [
    "# SNP Cross Disease Analysis"
   ]
  },
  {
   "cell_type": "markdown",
   "metadata": {},
   "source": [
    "Perform analysis on SNPs linked with specific diseases and produce results and plots. Make sure there is a subfolder named \"plots\" and subfolders within \"plots\" named \"boxplots\", \"violinplots\", and \"scatterplots\" to save plots to. (Alternatively, rename where the plots are saved within the code.)"
   ]
  },
  {
   "cell_type": "markdown",
   "metadata": {},
   "source": [
    "# Disease Analysis"
   ]
  },
  {
   "cell_type": "markdown",
   "metadata": {},
   "source": [
    "Specific libraries are imported."
   ]
  },
  {
   "cell_type": "code",
   "execution_count": 1,
   "metadata": {
    "collapsed": true
   },
   "outputs": [],
   "source": [
    "import csv\n",
    "import numpy as np\n",
    "import collections as col\n",
    "import random\n",
    "import matplotlib.pyplot as plt\n",
    "from scipy.stats import norm\n",
    "from scipy.stats import ks_2samp"
   ]
  },
  {
   "cell_type": "markdown",
   "metadata": {},
   "source": [
    "The lists of diseases and information relevant to files containing SNP effect size for these diseases such as file name, indices in files that contain SNP ID and effect size, and delimiters for the file type are initialized. The 11 specific diseases/traits/disorders analyzed are Alzheimer's, Parkinson's, Schizophrenia, Autism, Depression, Type 2 Diabetes, Body Mass Index, Obesity, Asthma, Smoking, and LDL Cholesterol Levels. The summary statistics for SNP effect size for each disease files are included and are all obtained from links on http://ldsc.broadinstitute.org/gwashare/. For each disease, the effect size may use Beta, which is centered around 0, or Odds Ratio, which is centered around 1.\n",
    "\n",
    "Specifically, the summary statistics files for each disease came from the following links:\n",
    "\n",
    "Alzheimer's: http://web.pasteur-lille.fr/en/recherche/u744/igap/igap_download.php\n",
    "\n",
    "Parkinson's: https://www.ncbi.nlm.nih.gov/projects/SNP/gViewer/gView.cgi?aid=2868\n",
    "\n",
    "Schizophrenia, Autism, Smoking: https://www.med.unc.edu/pgc/results-and-downloads\n",
    "\n",
    "Depression: https://www.thessgac.org/data\n",
    "\n",
    "Type 2 Diabetes: http://diagram-consortium.org/downloads.html\n",
    "\n",
    "Body Mass Index, Obesity: http://portals.broadinstitute.org/collaboration/giant/index.php/GIANT_consortium_data_files\n",
    "\n",
    "Asthma: http://www.cng.fr/gabriel/results.html\n",
    "\n",
    "LDL Cholesterol: http://csg.sph.umich.edu//abecasis/public/lipids2013/"
   ]
  },
  {
   "cell_type": "code",
   "execution_count": 2,
   "metadata": {
    "collapsed": true
   },
   "outputs": [],
   "source": [
    "# List of diseases\n",
    "diseases = [\"Alzheimer\", \"Parkinson\", \"Schizophrenia\", \"Autism\", \"Depress\", \"Type 2 Diabetes\", \"Body Mass Index\", \"Obesity\", \"Asthma\", \"Smok\", \"LDL\"]\n",
    "disease_names = [\"Alzheimer's\", \"Parkinson's\", \"Schizophrenia\", \"Autism\", \"Depression\", \"Type 2 Diabetes\", \"Body Mass Index\", \"Obesity\", \"Asthma\", \"Smoking\", \"LDL Cholesterol\"]\n",
    "\n",
    "numdiseases = len(diseases)\n",
    "\n",
    "# List of disease summary statistics file names\n",
    "diseasefiles = [\"alzheimerssumstats.txt\", \"parkinsonssumstats.txt\", \"schizophreniasumstats.txt\", \"autismsumstats.txt\", \"depressionsumstats3.txt\", \"type2diabetessumstats.txt\", \"bmisumstats.txt\", \"obesitysumstats.txt\", \"asthmasumstats.txt\", \"smokingsumstats.tbl\", \"ldlsumstats.txt\"]\n",
    "# diseasefiles = [\"alzheimerssumstats.filtered.txt\", \"parkinsonssumstats.filtered.txt\", \"schizophreniasumstats.filtered.txt\", \"autismsumstats.filtered.txt\", \"depressionsumstats3.filtered.txt\", \"type2diabetessumstats.filtered.txt\", \"bmisumstats.filtered.txt\", \"obesitysumstats.filtered.txt\", \"asthmasumstats.filtered.txt\", \"smokingsumstats.filtered.tbl\", \"ldlsumstats.filtered.txt\"]\n",
    "\n",
    "# List of corresponding indices for snpids and effect sizes for each disease file\n",
    "fileindices = [(2, 5), (0, 13), (0, 5), (0, 5), (0, 6), (0, 6), (0, 7), (0, 4), (1, 7), (1, 8), (2, 5)]\n",
    "\n",
    "# List of corresponding file delimiters\n",
    "filedelimiters = [\"\\t\", \"\\t\", \"\\t\", \"\\t\", \"\\t\", \"\\t\", \"\\t\", \" \", \"\\t\", \"\\t\", \"\\t\"]\n",
    "# filedelimiters = [\" \"]*11"
   ]
  },
  {
   "cell_type": "markdown",
   "metadata": {},
   "source": [
    "Additional data structures to store SNPs linked with each disease, SNP effect sizes for each disease, and whether or not there is a known effect size for a SNP for a specific disease are initialized."
   ]
  },
  {
   "cell_type": "code",
   "execution_count": 3,
   "metadata": {
    "collapsed": false
   },
   "outputs": [],
   "source": [
    "# Dictionary of sets of Disease-related SNPs\n",
    "snps = col.defaultdict(set)\n",
    "\n",
    "# Dictionary of dicts from SNP to Beta for each disease\n",
    "allsnpbetas = col.defaultdict(dict)\n",
    "\n",
    "# Dictionary of disease to dict that tells whether SNP has known effect size from disease files or not\n",
    "snpsindict = col.defaultdict(lambda: col.defaultdict(lambda: \"no\"))\n",
    "\n",
    "# Dictionary of SNP to information about SNP from associations file\n",
    "snpsinfo = {}\n",
    "\n",
    "# List of sets of disease-related SNPs for each disease\n",
    "diseasesnps = []\n",
    "\n",
    "# List of sets of disease-related SNP betas for the same disease\n",
    "diseasesnpbetas = []\n",
    "\n",
    "# Lists of indicies of diseases summary statistics files that use beta vs odds ratio for effect size\n",
    "betainds = [0, 4, 6, 7, 9, 10]\n",
    "oddsinds = [1, 2, 3, 5, 8]"
   ]
  },
  {
   "cell_type": "markdown",
   "metadata": {},
   "source": [
    "The filtered list of associations from SNAP is loaded and SNPs are read and categorized by disease/trait. The number of SNPs linked with each disease is printed."
   ]
  },
  {
   "cell_type": "code",
   "execution_count": 4,
   "metadata": {
    "collapsed": false
   },
   "outputs": [
    {
     "name": "stdout",
     "output_type": "stream",
     "text": [
      "Number of Alzheimer SNPs: 55\n",
      "Number of Parkinson SNPs: 43\n",
      "Number of Schizophrenia SNPs: 11\n",
      "Number of Autism SNPs: 19\n",
      "Number of Depress SNPs: 17\n",
      "Number of Type 2 Diabetes SNPs: 17\n",
      "Number of Body Mass Index SNPs: 40\n",
      "Number of Obesity SNPs: 14\n",
      "Number of Asthma SNPs: 32\n",
      "Number of Smok SNPs: 6\n",
      "Number of LDL SNPs: 16\n"
     ]
    }
   ],
   "source": [
    "# Read filtered SNPs and stores SNPs related to the specific diseases\n",
    "with open(\"../SNP-Filtering-and-Analysis/out4.filterclosest.0.5filtered.tsv\") as new:\n",
    "# with open(\"../SNP-Filtering-and-Analysis/out3.0.5.filtered\") as new:\n",
    "# with open(\"snapfiltered.associations.new2.tsv\") as new:\n",
    "# with open(\"associations.known.tsv\") as new:\n",
    "    for line in csv.reader(new, delimiter=\"\\t\"):\n",
    "        snpid = line[1]\n",
    "        pheno = line[2]\n",
    "        for disease in diseases:\n",
    "            if disease.upper() in pheno.upper():\n",
    "                snps[disease].add(snpid)\n",
    "                paper = line[0]\n",
    "                pvalue = line[4]\n",
    "                snpsinfo[snpid] = (snpid, pheno, paper, pvalue)\n",
    "                break\n",
    "\n",
    "snps = {key: list(values) for key, values in snps.items()} # turns dict of sets into dict of lists\n",
    "numsnps = [len(snps[disease]) for disease in diseases] # list of number of SNPs linked with each disease\n",
    "\n",
    "for i in range(numdiseases):\n",
    "    print \"Number of \" + diseases[i] + \" SNPs:\", numsnps[i]"
   ]
  },
  {
   "cell_type": "markdown",
   "metadata": {},
   "source": [
    "All of the files that contain SNP effect size for each disease are read and the effect sizes are stored."
   ]
  },
  {
   "cell_type": "code",
   "execution_count": 5,
   "metadata": {
    "collapsed": false
   },
   "outputs": [
    {
     "name": "stdout",
     "output_type": "stream",
     "text": [
      "0 Alzheimer alzheimerssumstats.txt\n",
      "1 Parkinson parkinsonssumstats.txt\n",
      "2 Schizophrenia schizophreniasumstats.txt\n",
      "3 Autism autismsumstats.txt\n",
      "4 Depress depressionsumstats3.txt\n",
      "5 Type 2 Diabetes type2diabetessumstats.txt\n",
      "6 Body Mass Index bmisumstats.txt\n",
      "7 Obesity obesitysumstats.txt\n",
      "8 Asthma asthmasumstats.txt\n",
      "9 Smok smokingsumstats.tbl\n",
      "10 LDL ldlsumstats.txt\n"
     ]
    }
   ],
   "source": [
    "# Function to tell if input string is float or not\n",
    "def is_number(s):\n",
    "    try:\n",
    "        float(s)\n",
    "        return True\n",
    "    except ValueError:\n",
    "        return False\n",
    "\n",
    "# Read disease files\n",
    "for i in range(numdiseases):\n",
    "    disease = diseases[i]\n",
    "    file = diseasefiles[i]\n",
    "    snpindex = fileindices[i][0]\n",
    "    betaindex = fileindices[i][1]\n",
    "    delim = filedelimiters[i]\n",
    "    print i, disease, file\n",
    "    with open(file) as new:\n",
    "        for line in csv.reader(new, delimiter=delim):\n",
    "            snpid = line[snpindex]\n",
    "            if not is_number(line[betaindex]):\n",
    "                continue\n",
    "            beta = float(line[betaindex])\n",
    "            allsnpbetas[disease][snpid] = beta\n",
    "            snpsindict[disease][snpid] = \"yes\""
   ]
  },
  {
   "cell_type": "markdown",
   "metadata": {},
   "source": [
    "The cross disease analysis is then performed. For each disease 1's set of linked SNPs, for each disease 2, the average effect size of disease 1 linked SNPs is calculated for disease 2 (which leads to 11 average effect sizes for disease 1 SNPs, one for each disease 2). Then a number of random samples of SNPs (1000 in this case) of the same number of disease 1 SNPs for which there was a known effect size for disease 2 are chosen and their average effect sizes are calculated. Using this permutation test, we can determine whether or not the effect size for disease 1 SNPs with respect to disease 2 is significant or not by calculating a simple p-value of (total samples - # random samples where the effect size for the disease 1 sample > effect size for random sample) / (total samples). The number of disease 1 SNPs with known effect size for disease 2, average effect sizes, p-values, and -log(p-values) are stored in matrices. A p-value using the normal approximation is also calculated.\n",
    "\n",
    "Additionally, for analyses of disease 1 SNPs with the same disease (when disease 1 = disease 2), scatterplots of the mean of the effect sizes of the sample of disease 1 SNPs are plotted along with the means of the 1000 random samples of SNPs for that disease."
   ]
  },
  {
   "cell_type": "code",
   "execution_count": 6,
   "metadata": {
    "collapsed": false
   },
   "outputs": [
    {
     "name": "stdout",
     "output_type": "stream",
     "text": [
      "0 Alzheimer\n",
      "1 Parkinson\n",
      "2 Schizophrenia\n",
      "3 Autism\n",
      "4 Depress\n",
      "5 Type 2 Diabetes\n",
      "6 Body Mass Index\n",
      "7 Obesity\n",
      "8 Asthma\n",
      "9 Smok\n",
      "10 LDL\n"
     ]
    }
   ],
   "source": [
    "# Create list of cross disease matrices for number of disease1 SNPs with known effect size for disease2, average effect sizes, p-values using perumtation test, log p-values, and normal approx. p-values\n",
    "crossdiseases = [np.zeros((numdiseases, numdiseases)) for i in range(5)]\n",
    "\n",
    "totalsamples = 1000\n",
    "\n",
    "# Information used for later plots\n",
    "allavgsamplebetas = [] # list of lists that contain the mean effect size for the random samples for each disease \n",
    "allavgbetas = [] # list mean effect size for the disease linked SNPs with the same disease for each disease\n",
    "\n",
    "for i in range(numdiseases):\n",
    "    disease1 = diseases[i]\n",
    "    print i, disease1\n",
    "    snplist = snps[disease1] # disease1 linked SNPs\n",
    "    for j in range(numdiseases):\n",
    "        disease2 = diseases[j]\n",
    "        snpbetas = []\n",
    "        dsnplist = []\n",
    "        for snp in snplist:\n",
    "            if snpsindict[disease2][snp] == \"no\": # if no effect size for disease2 for a disease1 linked SNP, skip\n",
    "                continue\n",
    "            snpbetas.append(allsnpbetas[disease2][snp]) # add effect size of SNP to list\n",
    "            dsnplist.append(snp) # add SNP name to list\n",
    "\n",
    "        if i == j: # if disease linked SNPs analyzed with same disease, get information\n",
    "            diseasesnps.append(dsnplist)\n",
    "            diseasesnpbetas.append(snpbetas)\n",
    "        \n",
    "        # Number of disease1 linked SNPs that have known effect size for disease2 and their average effect sizes\n",
    "        numsnpbetas = len(snpbetas)\n",
    "        avgbeta = np.mean(snpbetas)\n",
    "        \n",
    "        #****CHANGE HERE FOR ALTERNATIVE METRICS****\n",
    "        #avgbeta = np.median(snpbetas)\n",
    "        #avgbeta = np.percentile(snpbetas, 70)\n",
    "        #avgbeta = np.percentile(snpbetas, 80)\n",
    "        \n",
    "        if i == 0 and j == 10:\n",
    "            ldl_snps1 = dsnplist, snpbetas\n",
    "        \n",
    "        if i == 10 and j == 0:\n",
    "            ldl_snps2 = dsnplist, snpbetas\n",
    "\n",
    "        # Create random samples of all known SNPs with effect size for disease2\n",
    "        allsnps = allsnpbetas[disease2].keys()\n",
    "        avgsamplebetas = []\n",
    "        for k in range(totalsamples):\n",
    "            randsample = random.sample(allsnps, numsnpbetas)\n",
    "            avgsamplebeta = np.mean([allsnpbetas[disease2][snp] for snp in randsample])\n",
    "            \n",
    "            #****CHANGE HERE FOR ALTERNATIVE METRICS****\n",
    "            #avgsamplebeta = np.median([allsnpbetas[disease2][snp] for snp in randsample])\n",
    "            #avgsamplebeta = np.percentile([allsnpbetas[disease2][snp] for snp in randsample], 70)\n",
    "            #avgsamplebeta = np.percentile([allsnpbetas[disease2][snp] for snp in randsample], 80)\n",
    "            avgsamplebetas.append(avgsamplebeta)\n",
    "\n",
    "        # Plot Scatter if disease-linked snps with same disease, abs(beta) if using beta and abs(log(OR)) if using odds ratio\n",
    "        if i == j:\n",
    "            allavgsamplebetas.append(avgsamplebetas)\n",
    "            allavgbetas.append(avgbeta)\n",
    "            plt.clf()\n",
    "            if i in betainds:\n",
    "                plt.plot(range(1, totalsamples + 1), np.absolute(avgsamplebetas), 'bo', markersize=5, label=\"Random SNP Samples\")\n",
    "                plt.plot((0, totalsamples + 1), (np.absolute(avgbeta), np.absolute(avgbeta)), 'r-', label=disease1 + \" SNPs\")\n",
    "            else:\n",
    "                plt.plot(range(1, totalsamples + 1), np.absolute(np.log10(avgsamplebetas)), 'bo', markersize=5, label=\"Random SNP Samples\")\n",
    "                plt.plot((0, totalsamples + 1), (np.absolute(np.log10(avgbeta)), np.absolute(np.log10(avgbeta))), 'r-', label=disease1 + \" SNPs\")\n",
    "            plt.title(\"Average Effect Size of \"+ disease1 + \" SNPs vs \" + str(totalsamples) + \" Random Samples\", fontsize=10)\n",
    "            \n",
    "            #****CHANGE HERE FOR ALTERNATIVE METRICS****\n",
    "            #plt.title(\"Median Effect Size of \"+ disease1 + \" SNPs vs \" + str(totalsamples) + \" Random Samples\", fontsize=10)\n",
    "            #plt.title(\"70th Percentile Effect Size of \"+ disease1 + \" SNPs vs \" + str(totalsamples) + \" Random Samples\", fontsize=10)\n",
    "            #plt.title(\"80th Percentile Effect Size of \"+ disease1 + \" SNPs vs \" + str(totalsamples) + \" Random Samples\", fontsize=10)\n",
    "            \n",
    "            plt.xlabel(\"Sample\")\n",
    "            if i in betainds:\n",
    "                plt.ylabel(\"|Average Effect Size| (Beta)\")\n",
    "                \n",
    "                #****CHANGE HERE FOR ALTERNATIVE METRICS****\n",
    "                #plt.ylabel(\"Median Effect Size (Beta)\")\n",
    "                #plt.ylabel(\"70th Percentile Effect Size (Beta)\")\n",
    "                #plt.ylabel(\"80th Percentile Effect Size (Beta)\")\n",
    "            else:\n",
    "                plt.ylabel(\"log|Average Effect Size| (Odds Ratio)\")\n",
    "                \n",
    "                #****CHANGE HERE FOR ALTERNATIVE METRICS****\n",
    "                #plt.ylabel(\"Median Effect Size (Odds Ratio)\")\n",
    "                #plt.ylabel(\"70th Percentile Effect Size (Odds Ratio)\")\n",
    "                #plt.ylabel(\"80th Percentile Effect Size (Odds Ratio)\")\n",
    "            plt.xlim(0, totalsamples + 1)\n",
    "            plt.legend(loc=\"upper right\", handlelength=1, handleheight=1, fontsize=5)\n",
    "            plt.savefig(\"plots/scatterplots/\" + disease1 + \"scatter.pdf\")\n",
    "            \n",
    "            #****CHANGE HERE FOR ALTERNATIVE METRICS****\n",
    "            #plt.savefig(\"plots2/scatterplots/median/\" + disease1 + \"scatter.pdf\")\n",
    "            #plt.savefig(\"plots2/scatterplots/70/\" + disease1 + \"scatter.pdf\")\n",
    "            #plt.savefig(\"plots2/scatterplots/80/\" + disease1 + \"scatter.pdf\")\n",
    "\n",
    "        # Get p-value of disease1 SNPs being linked to disease2\n",
    "\n",
    "        # Get p-val for normal dist assumption\n",
    "        samplemean = np.mean(avgsamplebetas)\n",
    "        sampledev = np.std(avgsamplebetas)\n",
    "        zscore = (avgbeta - samplemean) / sampledev\n",
    "        npval = norm.sf(zscore)\n",
    "\n",
    "        # P-val for permutation test using the random samples\n",
    "        numgreaterthan = len([beta for beta in avgsamplebetas if avgbeta > beta])\n",
    "        pval = float(totalsamples + 1 - numgreaterthan) / (totalsamples + 1)\n",
    "\n",
    "        # Store cross disease analysis p-values and other information\n",
    "        crossdiseases[0][i][j] = numsnpbetas\n",
    "        crossdiseases[1][i][j] = avgbeta\n",
    "        crossdiseases[2][i][j] = pval\n",
    "        crossdiseases[3][i][j] = -np.log10(pval)\n",
    "        crossdiseases[4][i][j] = npval"
   ]
  },
  {
   "cell_type": "markdown",
   "metadata": {},
   "source": [
    "Let's save the pre-computed values."
   ]
  },
  {
   "cell_type": "code",
   "execution_count": 26,
   "metadata": {
    "collapsed": false
   },
   "outputs": [],
   "source": [
    "import pickle\n",
    "pickle.dump([allavgsamplebetas, allavgbetas, diseasesnps, diseasesnpbetas, crossdiseases], open('stats.pkl', 'wb'))"
   ]
  },
  {
   "cell_type": "markdown",
   "metadata": {},
   "source": [
    "Here, we reload them."
   ]
  },
  {
   "cell_type": "code",
   "execution_count": 75,
   "metadata": {
    "collapsed": false
   },
   "outputs": [],
   "source": [
    "import pickle\n",
    "allavgsamplebetas, allavgbetas, diseasesnps, diseasesnpbetas, crossdiseases = pickle.load(open('stats.pkl', 'rb'))\n",
    "totalsamples = 1000"
   ]
  },
  {
   "cell_type": "markdown",
   "metadata": {},
   "source": [
    "Below, we are going to plot the distribution of effect sizes as histograms."
   ]
  },
  {
   "cell_type": "code",
   "execution_count": 7,
   "metadata": {
    "collapsed": false
   },
   "outputs": [
    {
     "name": "stdout",
     "output_type": "stream",
     "text": [
      "0 Alzheimer\n",
      "1 Parkinson\n",
      "2 Schizophrenia\n",
      "3 Autism\n",
      "4 Depress\n",
      "5 Type 2 Diabetes\n",
      "6 Body Mass Index\n",
      "7 Obesity\n",
      "8 Asthma\n",
      "9 Smok\n",
      "10 LDL\n"
     ]
    }
   ],
   "source": [
    "# plt.style.use('ggplot')\n",
    "for i in range(numdiseases):\n",
    "    print i, diseases[i]\n",
    "    disease1 = diseases[i]\n",
    "    plt.clf()    \n",
    "    if i in betainds:\n",
    "        plt.hist(np.absolute(allavgsamplebetas[i]), label=\"Random SNP Samples\", bins=50)\n",
    "        plt.axvline(np.absolute(allavgbetas[i]), color='b', label='GWASkb SNPs')\n",
    "        plt.xlabel(\"Average Effect Size (|Beta|)\")\n",
    "    else:\n",
    "        plt.hist(np.absolute(np.log10(allavgsamplebetas[i])), label=\"Random SNP Samples\", bins=50)\n",
    "        plt.axvline(np.absolute(np.log10(allavgbetas[i])), color='b', label='GWASkb SNPs')      \n",
    "        plt.xlabel(\"Average Effect Size (|log OR|)\")       \n",
    "    plt.ylabel(\"Counts\")\n",
    "    plt.title(\"Average Effect Size of \"+ disease1 + \" SNPs vs \" + str(totalsamples) + \" Random Samples\", fontsize=12)\n",
    "    # plt.plot((0, totalsamples + 1), (np.absolute(avgbeta), np.absolute(avgbeta)), 'r-', label=disease1 + \" SNPs\")\n",
    "    \n",
    "#     plt.xlim(0, totalsamples + 1)\n",
    "    plt.legend(loc=\"upper right\", fontsize=8)\n",
    "    plt.savefig(\"plots/histograms/\" + disease1 + \".hist.pdf\")"
   ]
  },
  {
   "cell_type": "markdown",
   "metadata": {},
   "source": [
    "Furthermore, the Kolmogorov-Smirnov p-values between the disease 1 linked SNPs and the whole distribution of all SNPs with effect sizes for disease 1 are computed which basically tells how likely it is that the two samples come from the same distribution. Lists of all SNPs that have a known effect size for each disease are also found and stored for later plots."
   ]
  },
  {
   "cell_type": "code",
   "execution_count": 8,
   "metadata": {
    "collapsed": false
   },
   "outputs": [],
   "source": [
    "# Lists of all SNPs for each disease and their averages\n",
    "alldiseasesnpbetas = []\n",
    "alldiseasesnpsavg = []\n",
    "\n",
    "ksstats = [] # list of KS pvals of each disease's linked SNPs with whole distribution of SNPs with effect size for that disease\n",
    "\n",
    "# Only want to plot values that are within two standard deviations to have clear ranges on plots and not saturate axes\n",
    "for i in range(numdiseases):\n",
    "    diseasebetas = allsnpbetas[diseases[i]].values()\n",
    "    diseaseavg = np.mean(diseasebetas)\n",
    "    diseasestd = np.std(diseasebetas)\n",
    "    ndiseasebetas = [beta for beta in diseasebetas if beta <= diseaseavg + (2 * diseasestd) and beta >= diseaseavg - (2 * diseasestd)]\n",
    "    ndiseaseavg = np.mean(ndiseasebetas)\n",
    "    alldiseasesnpbetas.append(ndiseasebetas)\n",
    "    alldiseasesnpsavg.append(ndiseaseavg)\n",
    "    ksstat, kspval = ks_2samp(diseasesnpbetas[i], diseasebetas)\n",
    "    ksstats.append(kspval)"
   ]
  },
  {
   "cell_type": "markdown",
   "metadata": {},
   "source": [
    "All of this information regarding number of each disesase linked SNPs that have effect size for all other diseases, cross disease p-values, KS p-value, and which diseases each set of disease-linked SNPs are significant in are all printed to an output file."
   ]
  },
  {
   "cell_type": "code",
   "execution_count": 9,
   "metadata": {
    "collapsed": false
   },
   "outputs": [],
   "source": [
    "# Write results to file\n",
    "results = open(\"crossdiseases.txt\", \"w\")\n",
    "\n",
    "results.write(\"Number of Row Disease SNPs with Known Effect Size for Column Disease SNPs, Average Effect Size of Row Disease SNPs for Column Disease, P-Value for Row Disease Snps Effect Size for Column Disease Matrices\\n\\n\")\n",
    "\n",
    "for i in range(numdiseases):\n",
    "    results.write(\"Number of \" + diseases[i] + \" SNPs: \" + str(numsnps[i]) + \"\\n\")\n",
    "results.write(\"\\n\")\n",
    "\n",
    "for disease in diseases:\n",
    "    results.write(disease + \"\\t\")\n",
    "results.write(\"\\n\\n\")\n",
    "\n",
    "numsnpbetasmatrix = crossdiseases[0]\n",
    "results.write(\"Number of Row Disease SNPs with Known Effect Size for Column Disease\\n\")\n",
    "for i in range(numdiseases):\n",
    "    for j in range(numdiseases):\n",
    "        results.write(str(numsnpbetasmatrix[i][j]) + \"\\t\")\n",
    "    results.write(\"\\n\")\n",
    "results.write(\"\\n\")\n",
    "\n",
    "avgbetamatrix = crossdiseases[1]\n",
    "results.write(\"Average Effect Size of Row Disease SNPs for Column Disease\\n\")\n",
    "for i in range(numdiseases):\n",
    "    for j in range(numdiseases):\n",
    "        results.write(str(avgbetamatrix[i][j]) + \"\\t\")\n",
    "    results.write(\"\\n\")\n",
    "results.write(\"\\n\")\n",
    "\n",
    "npvalmatrix = crossdiseases[4]\n",
    "results.write(\"P-Value of Row Disease SNPs for Column Disease Using Normal Approximation\\n\")\n",
    "for i in range(numdiseases):\n",
    "    for j in range(numdiseases):\n",
    "        results.write(str(npvalmatrix[i][j]) + \"\\t\")\n",
    "    results.write(\"\\n\")\n",
    "results.write(\"\\n\")\n",
    "\n",
    "pvalmatrix = crossdiseases[2]\n",
    "results.write(\"P-Value of Row Disease SNPs for Column Disease Using Permutation Test\\n\")\n",
    "for i in range(numdiseases):\n",
    "    for j in range(numdiseases):\n",
    "        results.write(str(pvalmatrix[i][j]) + \"\\t\")\n",
    "    results.write(\"\\n\")\n",
    "results.write(\"\\n\")\n",
    "\n",
    "logmatrix = crossdiseases[3]\n",
    "results.write(\"-log of P-Value of Row Disease SNPs for Column Disease Using Permutation Test\\n\")\n",
    "for i in range(numdiseases):\n",
    "    for j in range(numdiseases):\n",
    "        results.write(str(logmatrix[i][j]) + \"\\t\")\n",
    "    results.write(\"\\n\")\n",
    "results.write(\"\\n\")\n",
    "\n",
    "results.write(\"KS P-Value of Disease SNPs with All SNPs with Effect Size for that Disease\\n\")\n",
    "for i in range(numdiseases):\n",
    "    results.write(diseases[i] + \": \" + str(ksstats[i]) + \"\\n\")\n",
    "results.write(\"\\n\")\n",
    "\n",
    "significancethresh = 0.05\n",
    "\n",
    "for i in range(numdiseases):\n",
    "    results.write(\"Other Diseases where \" + diseases[i] + \" SNPs have Significant Normal Approximation P-Values: \")\n",
    "    for j in range(numdiseases):\n",
    "        if npvalmatrix[i][j] <= significancethresh:\n",
    "            results.write(diseases[j] + \": \" + str(npvalmatrix[i][j]) + \", \")\n",
    "    results.write(\"\\n\")\n",
    "results.write(\"\\n\")\n",
    "\n",
    "for i in range(numdiseases):\n",
    "    results.write(\"Other Diseases where \" + diseases[i] + \" SNPs have Significant Permutation Test P-Values: \")\n",
    "    for j in range(numdiseases):\n",
    "        if pvalmatrix[i][j] <= significancethresh:\n",
    "            results.write(diseases[j] + \": \" + str(pvalmatrix[i][j]) + \", \")\n",
    "    results.write(\"\\n\")\n",
    "results.write(\"\\n\")\n",
    "\n",
    "results.close()"
   ]
  },
  {
   "cell_type": "markdown",
   "metadata": {},
   "source": [
    "SNPs linked to each disease are also printed to an output file."
   ]
  },
  {
   "cell_type": "code",
   "execution_count": 10,
   "metadata": {
    "collapsed": true
   },
   "outputs": [],
   "source": [
    "diseasesnpfile = open(\"diseasesnps.txt\", \"w\")\n",
    "\n",
    "diseasesnpfile.write(\"SNP\\tPheno\\tPaper\\tP-Value\\n\")\n",
    "for i in range(numdiseases):\n",
    "    diseasesnpfile.write(diseases[i] + \" related SNPs:\\n\")\n",
    "    for snp in diseasesnps[i]:\n",
    "        snpinfo = snpsinfo[snp]\n",
    "        diseasesnpfile.write(snpinfo[0] + \"\\t\" + snpinfo[1] + \"\\t\" + snpinfo[2] + \"\\t\" + snpinfo[3] + \"\\n\")\n",
    "    diseasesnpfile.write(\"\\n\")\n",
    "\n",
    "diseasesnpfile.close()"
   ]
  },
  {
   "cell_type": "markdown",
   "metadata": {},
   "source": [
    "Create a heatmap of cross disease p-values."
   ]
  },
  {
   "cell_type": "code",
   "execution_count": 11,
   "metadata": {
    "collapsed": true
   },
   "outputs": [],
   "source": [
    "logmatrix = crossdiseases[3]\n",
    "plt.clf()\n",
    "plt.imshow(logmatrix, interpolation='nearest')\n",
    "plt.colorbar()\n",
    "plt.savefig(\"plots/heatmap.pdf\")"
   ]
  },
  {
   "cell_type": "markdown",
   "metadata": {},
   "source": [
    "This will create a nicer heatmap"
   ]
  },
  {
   "cell_type": "code",
   "execution_count": 12,
   "metadata": {
    "collapsed": false
   },
   "outputs": [],
   "source": [
    "import matplotlib.colors as colors\n",
    "class MidpointNormalize(colors.Normalize):\n",
    "    def __init__(self, vmin=None, vmax=None, midpoint=None, clip=False):\n",
    "        self.midpoint = midpoint\n",
    "        colors.Normalize.__init__(self, vmin, vmax, clip)\n",
    "\n",
    "    def __call__(self, value, clip=None):\n",
    "        x, y = [self.vmin, self.midpoint, self.vmax], [0, 0.07, 1]\n",
    "        return np.ma.masked_array(np.interp(value, x, y))"
   ]
  },
  {
   "cell_type": "code",
   "execution_count": 13,
   "metadata": {
    "collapsed": false,
    "scrolled": true
   },
   "outputs": [],
   "source": [
    "idx = np.array([10,0,1,5,6,7])\n",
    "# idx = np.arange(11)\n",
    "labels = [disease_names[i] for i in idx]\n",
    "M = logmatrix[np.ix_(idx,idx)]\n",
    "# print M[:3,:3]\n",
    "# M = np.maximum(M, M.T)\n",
    "M = M[:,::-1]\n",
    "# plt.imshow(M, interpolation='nearest')\n",
    "# plt.show()\n",
    "\n",
    "from matplotlib.colors import LogNorm\n",
    "fix, ax, = plt.subplots(figsize=(8,6))\n",
    "# plt.pcolor(M, cmap='BuGn_r', norm=LogNorm(vmin=M.min(), vmax=M.max()))\n",
    "plt.pcolor(M, cmap='BuGn', norm=MidpointNormalize(1e-1, 3.5, 1.))\n",
    "# plt.pcolor(M, cmap='BuGn')\n",
    "\n",
    "ax.set_xticks(np.arange(M.shape[1]) + 0.5, minor=False)\n",
    "ax.set_yticks(np.arange(M.shape[0]) + 0.5, minor=False)\n",
    "ax.set_xticklabels(labels[::-1], rotation=15, fontsize=8)\n",
    "ax.set_yticklabels(labels, fontsize=8)\n",
    "\n",
    "ax.set_ylabel('Source disease (source of novel variants)', fontsize=12) #, fontweight='bold')\n",
    "ax.set_xlabel('Target disease (source of effect sizes)', fontsize=12)\n",
    "\n",
    "cb = plt.colorbar()\n",
    "cb.set_label('p-value of average magnitude of novel variant effect sizes')\n",
    "# plt.subplots_adjust(top=0.8)\n",
    "plt.title('Cross-Disease Interactions Among Novel GwasKB SNPs', fontsize=16)\n",
    "plt.tight_layout()\n",
    "from matplotlib import rcParams\n",
    "rcParams['axes.titlepad'] = 20 \n",
    "# plt.show()\n",
    "plt.savefig('plots/colormap.pdf')"
   ]
  },
  {
   "cell_type": "markdown",
   "metadata": {},
   "source": [
    "# Creating Plots"
   ]
  },
  {
   "cell_type": "markdown",
   "metadata": {},
   "source": [
    "Box and Violin plots are created to compare distributions of disease-linked SNPs with the distributions of all SNPs with known effect sizes for that disease. For these plots, we want to plot the absolute value abs(beta) if the effect size is beta and the absolute value of the log abs(log(odds)) if the effect size is odd ratio for clearer comparisons of distributions."
   ]
  },
  {
   "cell_type": "markdown",
   "metadata": {},
   "source": [
    "Lists of data are created for plots with all diseases on them."
   ]
  },
  {
   "cell_type": "code",
   "execution_count": 14,
   "metadata": {
    "collapsed": false
   },
   "outputs": [
    {
     "name": "stdout",
     "output_type": "stream",
     "text": [
      "0\n",
      "(52,) (6678657,)\n",
      "1\n",
      "2\n",
      "3\n",
      "4\n",
      "(17,) (6196229,)\n",
      "5\n",
      "6\n",
      "(39,) (3043961,)\n",
      "7\n",
      "(13,) (2282500,)\n",
      "8\n",
      "9\n",
      "(5,) (2409653,)\n",
      "10\n",
      "(16,) (2341007,)\n"
     ]
    }
   ],
   "source": [
    "# Lists of lists of effect sizes for disease linked SNPs and all SNPs with effect size based on whether beta or OR is used\n",
    "betadata = []\n",
    "oddsdata = []\n",
    "\n",
    "# Lists of indices of disease data for accurate labeling on plots\n",
    "betapos = []\n",
    "oddspos = []\n",
    "\n",
    "pos = range(1, 2 * numdiseases + 1)\n",
    "labels = []\n",
    "\n",
    "betalabels = []\n",
    "oddslabels = []\n",
    "\n",
    "# Add data to lists depending on beta or odds ratio\n",
    "for i in range(numdiseases):\n",
    "    print i\n",
    "    if i in betainds:\n",
    "        print np.absolute(diseasesnpbetas[i]).shape, np.absolute(alldiseasesnpbetas[i]).shape\n",
    "        betadata.append(np.absolute(diseasesnpbetas[i]))\n",
    "        betadata.append(np.absolute(alldiseasesnpbetas[i]))\n",
    "        betapos.append(i * 2 + 1)\n",
    "        betapos.append(i * 2 + 2)\n",
    "        betalabels.append(diseases[i][:3])\n",
    "        betalabels.append(\"All \" + diseases[i][:3])\n",
    "    else:\n",
    "        oddsdata.append(np.absolute(np.log10(diseasesnpbetas[i])))\n",
    "        oddsdata.append(np.absolute(np.log10(alldiseasesnpbetas[i])))\n",
    "        oddspos.append(i * 2 + 1)\n",
    "        oddspos.append(i * 2 + 2)\n",
    "        oddslabels.append(diseases[i][:3])\n",
    "        oddslabels.append(\"All \" + diseases[i][:3])\n",
    "    labels.append(diseases[i][:3])\n",
    "    labels.append(\"All \" + diseases[i][:3])"
   ]
  },
  {
   "cell_type": "markdown",
   "metadata": {},
   "source": [
    "All the violin plots for each disease are plotted onto one figure."
   ]
  },
  {
   "cell_type": "code",
   "execution_count": 15,
   "metadata": {
    "collapsed": false
   },
   "outputs": [],
   "source": [
    "# All violin plots on one plot using two different y-axes, one for beta and one for odds ratio\n",
    "plt.clf()\n",
    "fig, ax1 = plt.subplots()\n",
    "a1 = ax1.violinplot(betadata, betapos, points=40, widths=.5, showmeans=True, showextrema=True)\n",
    "ax1.set_ylabel('|Beta|', color='r')\n",
    "ax1.set_xlabel(\"Disease Distribution of SNPs\")\n",
    "values = [val for sublist in betadata for val in sublist]\n",
    "ax1.set_ylim([np.min(values) - .1, np.max(values) + .1])\n",
    "ax1.tick_params(axis='x', labelsize=5)\n",
    "\n",
    "a1[\"cbars\"].set_color('r')\n",
    "a1[\"cmeans\"].set_color('r')\n",
    "a1[\"cmins\"].set_color('r')\n",
    "a1[\"cmaxes\"].set_color('r')\n",
    "\n",
    "ax2 = ax1.twinx()\n",
    "a2 = ax2.violinplot(oddsdata, oddspos, points=40, widths=.4, showmeans=True, showextrema=True)\n",
    "ax2.set_ylabel('|log(Odds Ratio)|', color='b')\n",
    "values = [val for sublist in oddsdata for val in sublist]\n",
    "ax2.set_ylim([np.min(values) - .1, np.max(values) + .1])\n",
    "\n",
    "a2[\"cbars\"].set_color('b')\n",
    "a2[\"cmeans\"].set_color('b')\n",
    "a2[\"cmins\"].set_color('b')\n",
    "a2[\"cmaxes\"].set_color('b')\n",
    "\n",
    "plt.xticks(pos, labels)\n",
    "plt.title(\"All Disease Violin Plots\", fontsize=10)\n",
    "fig.tight_layout()\n",
    "plt.savefig(\"plots/allviolin.pdf\")"
   ]
  },
  {
   "cell_type": "markdown",
   "metadata": {},
   "source": [
    "Two separate violin plots are created, one containing plots diseases with beta as effect size, the other containing plots diseases with odds ratio as effect size."
   ]
  },
  {
   "cell_type": "code",
   "execution_count": 16,
   "metadata": {
    "collapsed": true
   },
   "outputs": [],
   "source": [
    "# Two Separate Violin Plots\n",
    "newbetapos = range(1, len(betadata) + 1)\n",
    "newoddspos = range(1, len(oddsdata) + 1)\n",
    "\n",
    "plt.clf()\n",
    "a1 = plt.violinplot(betadata, newbetapos, points=40, widths=.5, showmeans=True, showextrema=True)\n",
    "plt.ylabel('|Beta|', color='r')\n",
    "plt.xlabel(\"Disease Distribution of SNPs\")\n",
    "values = [val for sublist in betadata for val in sublist]\n",
    "plt.ylim([np.min(values) - .1, np.max(values) + .1])\n",
    "plt.tick_params(axis='x', labelsize=5)\n",
    "\n",
    "a1[\"cbars\"].set_color('r')\n",
    "a1[\"cmeans\"].set_color('r')\n",
    "a1[\"cmins\"].set_color('r')\n",
    "a1[\"cmaxes\"].set_color('r')\n",
    "\n",
    "plt.xticks(newbetapos, betalabels)\n",
    "plt.title(\"All Disease Violin Plots with Beta Effect Size\", fontsize=10)\n",
    "plt.savefig(\"plots/betaviolin.pdf\")\n",
    "\n",
    "\n",
    "plt.clf()\n",
    "a2 = plt.violinplot(oddsdata, newoddspos, points=40, widths=.5, showmeans=True, showextrema=True)\n",
    "plt.ylabel('|log(Odds Ratio)|', color='b')\n",
    "values = [val for sublist in oddsdata for val in sublist]\n",
    "plt.ylim([np.min(values) - .1, np.max(values) + .1])\n",
    "\n",
    "a2[\"cbars\"].set_color('b')\n",
    "a2[\"cmeans\"].set_color('b')\n",
    "a2[\"cmins\"].set_color('b')\n",
    "a2[\"cmaxes\"].set_color('b')\n",
    "\n",
    "plt.xticks(newoddspos, oddslabels)\n",
    "plt.title(\"All Disease Violin Plots\", fontsize=10)\n",
    "plt.savefig(\"plots/oddsviolin.pdf\")"
   ]
  },
  {
   "cell_type": "markdown",
   "metadata": {},
   "source": [
    "All scatterplots are also plotted onto one figure."
   ]
  },
  {
   "cell_type": "code",
   "execution_count": 17,
   "metadata": {
    "collapsed": true
   },
   "outputs": [],
   "source": [
    "cols = 3\n",
    "rows = int(np.ceil(float(numdiseases) / cols))\n",
    "\n",
    "plt.clf()\n",
    "fig, axes = plt.subplots(nrows=rows, ncols=cols)\n",
    "diseaseind = 0\n",
    "for i in range(rows):\n",
    "    for j in range(cols):\n",
    "        if diseaseind >= numdiseases:\n",
    "            diseaseind += 1\n",
    "            continue\n",
    "        if diseaseind in betainds:\n",
    "            axes[i, j].plot(range(1, totalsamples + 1), np.absolute(allavgsamplebetas[diseaseind]), 'bo', markersize=2, label=\"Random SNP Samples\")\n",
    "            axes[i, j].plot((0, totalsamples + 1), (np.absolute(allavgbetas[diseaseind]), np.absolute(allavgbetas[diseaseind])), 'r-', label=\"Disease SNPs\")\n",
    "        else:\n",
    "            axes[i, j].plot(range(1, totalsamples + 1), np.absolute(np.log10(allavgsamplebetas[diseaseind])), 'bo', markersize=2, label=\"Random SNP Samples\")\n",
    "            axes[i, j].plot((0, totalsamples + 1), (np.absolute(np.log10(allavgbetas[diseaseind])), np.absolute(np.log10(allavgbetas[diseaseind]))), 'r-', label=\"Disease SNPs\")\n",
    "        axes[i, j].set_title(diseases[diseaseind], fontsize=5)\n",
    "        axes[i, j].set_xlim(0, totalsamples + 1)\n",
    "        axes[i, j].tick_params(axis='both', labelsize=3)\n",
    "        if diseaseind in betainds:\n",
    "            axes[i, j].set_ylabel(\"|Avg Effect Size| (Beta)\", fontsize=5)\n",
    "        else:\n",
    "            axes[i, j].set_ylabel(\"|log(Avg Effect Size)| (OR)\", fontsize=5)\n",
    "        diseaseind +=1\n",
    "\n",
    "fig.suptitle(\"Disease Scatter Plots\")\n",
    "plt.savefig(\"plots/allscatter.pdf\")"
   ]
  },
  {
   "cell_type": "markdown",
   "metadata": {},
   "source": [
    "All histograms in one figure."
   ]
  },
  {
   "cell_type": "code",
   "execution_count": 18,
   "metadata": {
    "collapsed": false
   },
   "outputs": [],
   "source": [
    "cols = 3\n",
    "rows = 3\n",
    "\n",
    "plt.clf()\n",
    "fig, axes = plt.subplots(nrows=rows, ncols=cols)\n",
    "diseaseind = 0\n",
    "diseasen = [0, 1, 9, 3, 4, 5, 6, 7, 10]\n",
    "plt.style.use('default')\n",
    "for i in range(rows):\n",
    "    for j in range(cols):\n",
    "        k = diseasen[diseaseind]\n",
    "        if k in betainds:\n",
    "            axes[i, j].hist(np.absolute(allavgsamplebetas[k]), label=\"Random Sets Of SNPs\", bins=50, edgecolor=None, linewidth=0.)\n",
    "            axes[i, j].axvline(np.absolute(allavgbetas[k]), color='r', label='GwasKB SNPs', linewidth=2)\n",
    "        else:\n",
    "            axes[i, j].hist(np.absolute(np.log10(allavgsamplebetas[k])), label=\"Random Sets Of SNPs\", bins=50, edgecolor=None, linewidth=0.)\n",
    "            axes[i, j].axvline(np.absolute(np.log10(allavgbetas[k])), color='r', label='GwasKB SNPs', linewidth=2)      \n",
    "        axes[i, j].set_title(disease_names[k], fontsize=8)\n",
    "        axes[i, j].tick_params(axis='both', labelsize=3)\n",
    "#         axes[i, j].set_xlim([0,None])\n",
    "        if i == 0 and j == 2: axes[i,j].legend(loc=\"upper right\", fontsize=5)\n",
    "        if k in betainds:\n",
    "            axes[i, j].set_xlabel(\"Average Effect Size (|Beta|)\", fontsize=5)\n",
    "        else:\n",
    "            axes[i, j].set_xlabel(\"Average Effect Size (|log OR|)\", fontsize=5)\n",
    "        if j == 0: axes[i, j].set_ylabel(\"Number Of Random SNP Subsets\", fontsize=5)\n",
    "        diseaseind +=1\n",
    "\n",
    "fig.suptitle(\"Distribution of Average Effect Sizes in GwasKB vs. Random SNPs\")\n",
    "plt.tight_layout()\n",
    "plt.subplots_adjust(top=0.9)\n",
    "plt.savefig(\"plots/allhist.pdf\")"
   ]
  },
  {
   "cell_type": "markdown",
   "metadata": {},
   "source": [
    "Individual violin and box plots are also created for each disease."
   ]
  },
  {
   "cell_type": "code",
   "execution_count": 19,
   "metadata": {
    "collapsed": false
   },
   "outputs": [],
   "source": [
    "# Individual plots\n",
    "pos = [1, 2]\n",
    "labels = [\"Disease-Linked SNPs\", \"All SNPs\"]\n",
    "\n",
    "for i in range(numdiseases):\n",
    "    # Violin plots\n",
    "    plt.clf()\n",
    "    if i in betainds:\n",
    "        plt.violinplot([np.absolute(diseasesnpbetas[i]), np.absolute(alldiseasesnpbetas[i])], pos, points=40, widths=.5, showmeans=True, showextrema=True)\n",
    "        plt.ylabel(\"|Effect Size| (Beta)\")\n",
    "    else:\n",
    "        plt.violinplot([np.absolute(np.log10(diseasesnpbetas[i])), np.absolute(np.log10(alldiseasesnpbetas[i]))], pos, points=40, widths=.5, showmeans=True, showextrema=True)\n",
    "        plt.ylabel(\"|log(Effect Size)| (OR)\")\n",
    "    plt.title(diseases[i] + \" Violin Plot\", fontsize=10)\n",
    "    plt.xticks(pos, labels)\n",
    "    plt.xlabel(\"Distribution\")\n",
    "    plt.savefig(\"plots/violinplots/\" + diseases[i] + \"violin.pdf\")"
   ]
  },
  {
   "cell_type": "code",
   "execution_count": 20,
   "metadata": {
    "collapsed": false
   },
   "outputs": [],
   "source": [
    "for i in range(numdiseases):\n",
    "    # Box pots\n",
    "    plt.clf()\n",
    "    if i in betainds:\n",
    "        plt.boxplot([np.absolute(diseasesnpbetas[i]), np.absolute(alldiseasesnpbetas[i])], 0, '')\n",
    "        plt.ylabel(\"|Effect Size| (Beta)\")\n",
    "    else:\n",
    "        plt.boxplot([np.absolute(np.log10(diseasesnpbetas[i])), np.absolute(np.log10(alldiseasesnpbetas[i]))], 0, '')\n",
    "        plt.ylabel(\"log|Effect Size| (OR)\")\n",
    "    plt.xticks(pos, labels)\n",
    "    plt.xlabel(\"Distribution\")\n",
    "\n",
    "    plt.title(diseases[i] + \" Box Plot\", fontsize=10)\n",
    "    plt.savefig(\"plots/boxplots/\" + diseases[i] + \"box.pdf\")"
   ]
  },
  {
   "cell_type": "markdown",
   "metadata": {},
   "source": [
    "#### Nicer Violin Plots"
   ]
  },
  {
   "cell_type": "markdown",
   "metadata": {},
   "source": [
    "Here, we make nicer violin plots."
   ]
  },
  {
   "cell_type": "code",
   "execution_count": 21,
   "metadata": {
    "collapsed": true
   },
   "outputs": [],
   "source": [
    "subsamp_betas = []\n",
    "for i in range(len(diseases)):\n",
    "    subsamp_betas.append(alldiseasesnpbetas[i][::20])"
   ]
  },
  {
   "cell_type": "code",
   "execution_count": 22,
   "metadata": {
    "collapsed": false
   },
   "outputs": [],
   "source": [
    "pvals = [ max(0.5*max(-np.log10(s),-np.log10(pvalmatrix[i][i])), min(-np.log10(s),-np.log10(pvalmatrix[i][i]))) \n",
    "         for s, i in zip(ksstats,range(len(diseases)))]\n",
    "dnames = ['%s\\n-logp > %.2f' % (dname, pval) for dname, pval in zip(disease_names, pvals)]"
   ]
  },
  {
   "cell_type": "code",
   "execution_count": 23,
   "metadata": {
    "collapsed": false
   },
   "outputs": [
    {
     "data": {
      "text/html": [
       "<div>\n",
       "<style>\n",
       "    .dataframe thead tr:only-child th {\n",
       "        text-align: right;\n",
       "    }\n",
       "\n",
       "    .dataframe thead th {\n",
       "        text-align: left;\n",
       "    }\n",
       "\n",
       "    .dataframe tbody tr th {\n",
       "        vertical-align: top;\n",
       "    }\n",
       "</style>\n",
       "<table border=\"1\" class=\"dataframe\">\n",
       "  <thead>\n",
       "    <tr style=\"text-align: right;\">\n",
       "      <th></th>\n",
       "      <th>Disease</th>\n",
       "      <th>Effect Size</th>\n",
       "      <th>Source</th>\n",
       "    </tr>\n",
       "  </thead>\n",
       "  <tbody>\n",
       "    <tr>\n",
       "      <th>234</th>\n",
       "      <td>Alzheimer's\\n-logp &gt; 2.31</td>\n",
       "      <td>100.0</td>\n",
       "      <td>All</td>\n",
       "    </tr>\n",
       "    <tr>\n",
       "      <th>235</th>\n",
       "      <td>Depression\\n-logp &gt; 0.20</td>\n",
       "      <td>100.0</td>\n",
       "      <td>All</td>\n",
       "    </tr>\n",
       "    <tr>\n",
       "      <th>236</th>\n",
       "      <td>Body Mass Index\\n-logp &gt; 1.30</td>\n",
       "      <td>100.0</td>\n",
       "      <td>All</td>\n",
       "    </tr>\n",
       "    <tr>\n",
       "      <th>237</th>\n",
       "      <td>Obesity\\n-logp &gt; 3.00</td>\n",
       "      <td>100.0</td>\n",
       "      <td>All</td>\n",
       "    </tr>\n",
       "    <tr>\n",
       "      <th>238</th>\n",
       "      <td>Smoking\\n-logp &gt; 0.25</td>\n",
       "      <td>100.0</td>\n",
       "      <td>All</td>\n",
       "    </tr>\n",
       "    <tr>\n",
       "      <th>239</th>\n",
       "      <td>LDL Cholesterol\\n-logp &gt; 3.09</td>\n",
       "      <td>100.0</td>\n",
       "      <td>All</td>\n",
       "    </tr>\n",
       "    <tr>\n",
       "      <th>240</th>\n",
       "      <td>Parkinson's\\n-logp &gt; 1.20</td>\n",
       "      <td>100.0</td>\n",
       "      <td>All</td>\n",
       "    </tr>\n",
       "    <tr>\n",
       "      <th>241</th>\n",
       "      <td>Schizophrenia\\n-logp &gt; 0.77</td>\n",
       "      <td>100.0</td>\n",
       "      <td>All</td>\n",
       "    </tr>\n",
       "    <tr>\n",
       "      <th>242</th>\n",
       "      <td>Autism\\n-logp &gt; 1.91</td>\n",
       "      <td>100.0</td>\n",
       "      <td>All</td>\n",
       "    </tr>\n",
       "    <tr>\n",
       "      <th>243</th>\n",
       "      <td>Type 2 Diabetes\\n-logp &gt; 1.34</td>\n",
       "      <td>100.0</td>\n",
       "      <td>All</td>\n",
       "    </tr>\n",
       "    <tr>\n",
       "      <th>244</th>\n",
       "      <td>Asthma\\n-logp &gt; 1.96</td>\n",
       "      <td>100.0</td>\n",
       "      <td>All</td>\n",
       "    </tr>\n",
       "  </tbody>\n",
       "</table>\n",
       "</div>"
      ],
      "text/plain": [
       "                           Disease  Effect Size Source\n",
       "234      Alzheimer's\\n-logp > 2.31        100.0    All\n",
       "235       Depression\\n-logp > 0.20        100.0    All\n",
       "236  Body Mass Index\\n-logp > 1.30        100.0    All\n",
       "237          Obesity\\n-logp > 3.00        100.0    All\n",
       "238          Smoking\\n-logp > 0.25        100.0    All\n",
       "239  LDL Cholesterol\\n-logp > 3.09        100.0    All\n",
       "240      Parkinson's\\n-logp > 1.20        100.0    All\n",
       "241    Schizophrenia\\n-logp > 0.77        100.0    All\n",
       "242           Autism\\n-logp > 1.91        100.0    All\n",
       "243  Type 2 Diabetes\\n-logp > 1.34        100.0    All\n",
       "244           Asthma\\n-logp > 1.96        100.0    All"
      ]
     },
     "execution_count": 23,
     "metadata": {},
     "output_type": "execute_result"
    }
   ],
   "source": [
    "import pandas as pd\n",
    "from itertools import chain\n",
    "\n",
    "df_odds = pd.DataFrame({\n",
    "        'Effect Size' : np.abs(np.log(np.concatenate([np.concatenate([diseasesnpbetas[i], subsamp_betas[i]]) for i in oddsinds]))),\n",
    "        'Disease' : list(chain.from_iterable([[dnames[i]] * (len(diseasesnpbetas[i]) + len(subsamp_betas[i])) for i in oddsinds])),\n",
    "        'Source' : list(chain.from_iterable([['GwasKB'] * len(diseasesnpbetas[i]) + ['All'] * len(subsamp_betas[i]) for i in oddsinds])),\n",
    "    })\n",
    "df_beta = pd.DataFrame({\n",
    "        'Effect Size' : (np.concatenate([np.concatenate([np.abs(diseasesnpbetas[i]), np.abs(subsamp_betas[i])]) for i in betainds])),\n",
    "        'Disease' : list(chain.from_iterable([[dnames[i]] * (len(diseasesnpbetas[i]) + len(subsamp_betas[i])) for i in betainds])),\n",
    "        'Source' : list(chain.from_iterable([['GwasKB'] * len(diseasesnpbetas[i]) + ['All'] * len(subsamp_betas[i]) for i in betainds])),\n",
    "    })\n",
    "df_all = pd.concat([df_beta, df_odds], ignore_index=True)\n",
    "df_all = df_all.loc[df_all['Source'] == 'All']\n",
    "\n",
    "df2 = df_beta.loc[df_beta['Source'] == 'GwasKB']\n",
    "df3 = df_odds.loc[df_odds['Source'] == 'GwasKB']\n",
    "df4 = pd.concat([df2, df3], ignore_index=True)\n",
    "for i in betainds:\n",
    "    df4=df4.append({'Effect Size': 100, 'Disease': dnames[i], 'Source': 'All'}, ignore_index=True)\n",
    "    df_all=df_all.append({'Effect Size': 100, 'Disease': dnames[i], 'Source': 'GwasKB'}, ignore_index=True)\n",
    "for i in oddsinds:\n",
    "    df4=df4.append({'Effect Size': 100, 'Disease': dnames[i], 'Source': 'All'}, ignore_index=True)\n",
    "    df_all=df_all.append({'Effect Size': 100, 'Disease': dnames[i], 'Source': 'GwasKB'}, ignore_index=True)\n",
    "df_all = df_all.iloc[::-1]\n",
    "df4.tail(11)"
   ]
  },
  {
   "cell_type": "code",
   "execution_count": null,
   "metadata": {
    "collapsed": false
   },
   "outputs": [],
   "source": [
    "import seaborn as sbn\n",
    "\n",
    "plt.clf()\n",
    "sbn.set(style='darkgrid')\n",
    "# fig, (ax1, ax2) = plt.subplots(nrows=2, ncols=1, figsize=(12,8))\n",
    "fig = plt.figure(figsize=(12,8))\n",
    "ax1 = plt.subplot2grid((3, 3), (0, 0), colspan=3, rowspan=2)\n",
    "\n",
    "#top part\n",
    "\n",
    "# violin_diseases = [\"Alzheimer's\\nlogp > 3.00\", \"Body Mass Index\\nlogp > 2.27\", \"Autism\\nlogp > 2.21\", \"Type 2 Diabetes\\nlogp > 2.30\", \"Asthma\\nlogp > 1.71\"]\n",
    "# violin_diseases = [\"\\textbf{Alzheimer's}\\nlogp > 3.00\", \"\\textbf{Body Mass Index}\\nlogp > 2.27\", \"\\textbf{Autism}\\nlogp > 2.21\", \"\\textbf{Type 2 Diabetes}\\nlogp > 2.30\", \"\\textbf{Asthma}\\nlogp > 1.71\"]\n",
    "df4 = df4[df4.Disease.isin(violin_diseases)]\n",
    "df_all = df_all[df_all.Disease.isin(violin_diseases)]\n",
    "\n",
    "df4 = df4.sort_values(['Disease', 'Source'], ascending=[True, False])\n",
    "df_all = df_all.sort_values(['Disease', 'Source'], ascending=[True, False])\n",
    "\n",
    "ax = sbn.stripplot(data=df4, x='Disease', y='Effect Size', hue='Source', split=True, jitter=0.1, palette=sbn.color_palette(['#333333']), edgecolor='grey',size=3, ax=ax1)\n",
    "ax = sbn.boxplot(data=df4, x='Disease', y='Effect Size', hue='Source', ax=ax1)\n",
    "plt.setp(ax.lines, zorder=100)\n",
    "plt.setp(ax.collections, zorder=100, label=\"\")\n",
    "ax = sbn.violinplot(data=df_all, x='Disease', y='Effect Size', hue='Source', bw=0.1, scale='width', scale_hue=True, ax=ax, cut=0)\n",
    "ax.set_ylim([0.,2])\n",
    "ax.set_yscale('symlog', subsy=[0, 1, 2, 3, 4, 5], basey=10, linthreshy=1e-2)\n",
    "\n",
    "handles, labels = ax.get_legend_handles_labels()\n",
    "l = plt.legend(handles[0:2], labels[0:2])\n",
    "\n",
    "# bottom part\n",
    "diseasen = [1,7,10]\n",
    "# plt.style.use('default')\n",
    "for i, k in enumerate(diseasen):\n",
    "    plt.subplot2grid((3, 3), (2, i))\n",
    "    if k in betainds:\n",
    "        plt.hist(np.absolute(allavgsamplebetas[k]), label=\"Random Sets Of SNPs\", bins=50, edgecolor=None, linewidth=0.)\n",
    "        plt.axvline(np.absolute(allavgbetas[k]), color='r', label='GwasKB SNPs', linewidth=2)\n",
    "    else:\n",
    "        plt.hist(np.absolute(np.log10(allavgsamplebetas[k])), label=\"Random Sets Of SNPs\", bins=50, edgecolor=None, linewidth=0.)\n",
    "        plt.axvline(np.absolute(np.log10(allavgbetas[k])), color='r', label='GwasKB SNPs', linewidth=2)      \n",
    "    plt.title(disease_names[k])\n",
    "    plt.tick_params(axis='both', labelsize=3)\n",
    "    if i==2: plt.legend(loc=\"upper right\")\n",
    "    if k in betainds:\n",
    "        plt.xlabel(\"Average Effect Size (|Beta|)\")\n",
    "    else:\n",
    "        plt.xlabel(\"Average Effect Size (|log OR|)\")\n",
    "    if i == 0: plt.ylabel(\"Number Of Random SNP Subsets\", fontsize=8)\n",
    "\n",
    "# plt.tight_layout()\n",
    "plt.suptitle('Distribution of Effect Sizes in Newly-Found vs Random SNPs')\n",
    "plt.tight_layout()\n",
    "plt.subplots_adjust(top=0.93)\n",
    "# plt.show()\n",
    "plt.savefig('all.violin.pdf')"
   ]
  },
  {
   "cell_type": "markdown",
   "metadata": {},
   "source": [
    "The code below includes experiments with plots related to the violin plots above."
   ]
  },
  {
   "cell_type": "code",
   "execution_count": 136,
   "metadata": {
    "collapsed": false
   },
   "outputs": [
    {
     "data": {
      "image/png": "[encoded data removed]",
      "text/plain": [
       "<matplotlib.figure.Figure at 0x223413550>"
      ]
     },
     "metadata": {},
     "output_type": "display_data"
    }
   ],
   "source": [
    "plt.figure(figsize=(16,6))\n",
    "ax = sbn.stripplot(data=df4, x='Disease', y='Effect Size', hue='Source', split=True, jitter=0.1, palette=sbn.color_palette(['#333333']), edgecolor='grey',size=3)\n",
    "ax = sbn.boxplot(data=df4, x='Disease', y='Effect Size', hue='Source', ax=ax)\n",
    "ax.set_ylim([0.,2])\n",
    "ax.set_yscale('symlog', subsy=[0, 1, 2, 3, 4, 5], basey=10, linthreshy=1e-2)\n",
    "# plt.savefig('/Users/kuleshov/Desktop/tmp.pdf')"
   ]
  },
  {
   "cell_type": "code",
   "execution_count": 110,
   "metadata": {
    "collapsed": true
   },
   "outputs": [],
   "source": [
    "violin_diseases = [\"Alzheimer's\\n-logp > 3.00\", \"Body Mass Index\\n-logp > 2.27\", \"Autism\\n-logp > 2.21\", \"Type 2 Diabetes\\n-logp > 2.30\", \"Asthma\\n-logp > 1.71\"]"
   ]
  },
  {
   "cell_type": "code",
   "execution_count": 24,
   "metadata": {
    "collapsed": false
   },
   "outputs": [],
   "source": [
    "# this prints just the violin plots\n",
    "import seaborn as sbn\n",
    "import matplotlib\n",
    "from matplotlib import rc\n",
    "rc('text', usetex=False)\n",
    "\n",
    "# sbn.set_context(\"paper\", rc={\"axes.titlesize\":16,\"axes.labelsize\":16}) \n",
    "\n",
    "plt.clf()\n",
    "sbn.set(style='darkgrid')\n",
    "fig, ax1 = plt.subplots(nrows=1, ncols=1, figsize=(10,4))\n",
    "\n",
    "# violin_diseases = [\"Alzheimer's\\n-logp > 3.00\", \"Body Mass Index\\n-logp > 2.27\", \"Autism\\n-logp > 2.21\", \"Type 2 Diabetes\\n-logp > 2.30\", \"Asthma\\n-logp > 1.71\"]\n",
    "# df4 = df4[df4.Disease.isin(violin_diseases)].sort_values(['Disease', 'Source'], ascending=[True, False])\n",
    "# df_all = df_all[df_all.Disease.isin(violin_diseases)].sort_values(['Disease', 'Source'], ascending=[True, False])\n",
    "\n",
    "df4 = df4.sort_values(['Disease', 'Source'], ascending=[True, False])\n",
    "df_all = df_all.sort_values(['Disease', 'Source'], ascending=[True, False])\n",
    "\n",
    "# betas\n",
    "ax = sbn.stripplot(data=df4, x='Disease', y='Effect Size', hue='Source', split=True, jitter=0.1, palette=sbn.color_palette(['#333333']), edgecolor='grey',size=3, ax=ax1)\n",
    "# ax = sbn.stripplot(data=df4, x='Disease', y='Effect Size', hue='Source', split=True, jitter=0.1, edgecolor='grey',size=3, ax=ax1)\n",
    "ax = sbn.boxplot(data=df4, x='Disease', y='Effect Size', hue='Source', ax=ax1)\n",
    "plt.setp(ax.lines, zorder=100)\n",
    "plt.setp(ax.collections, zorder=100, label=\"\")\n",
    "ax = sbn.violinplot(data=df_all, x='Disease', y='Effect Size', hue='Source', bw=0.1, scale='width', scale_hue=True, ax=ax, cut=0)\n",
    "ax.set_ylim([0.,2])\n",
    "ax.set_yscale('symlog', subsy=[0, 1, 2, 3, 4, 5], basey=10, linthreshy=1e-2)\n",
    "\n",
    "handles, labels = ax.get_legend_handles_labels()\n",
    "l = plt.legend(handles[0:2], labels[0:2])\n",
    "\n",
    "\n",
    "l = ax.get_xticklabels()\n",
    "ax.set_xticklabels(l, fontsize=8)\n",
    "l = ax.get_xlabel()\n",
    "ax.set_xlabel(l, fontsize=12)\n",
    "l = ax.get_ylabel()\n",
    "ax.set_ylabel(l, fontsize=12)\n",
    "\n",
    "# plt.tight_layout()\n",
    "plt.title('Distribution of Effect Sizes in Newly-Found vs Random SNPs', fontsize=16)\n",
    "plt.tight_layout()\n",
    "# plt.show()\n",
    "plt.savefig('all.violin.pdf')"
   ]
  },
  {
   "cell_type": "markdown",
   "metadata": {},
   "source": [
    "And this just prints the bottom part"
   ]
  },
  {
   "cell_type": "code",
   "execution_count": 25,
   "metadata": {
    "collapsed": false
   },
   "outputs": [],
   "source": [
    "import seaborn as sbn\n",
    "\n",
    "plt.clf()\n",
    "sbn.set(style='darkgrid')\n",
    "# fig, (ax1, ax2) = plt.subplots(nrows=2, ncols=1, figsize=(12,8))\n",
    "fig = plt.figure(figsize=(12,3))\n",
    "\n",
    "# bottom part\n",
    "diseasen = [1,7,10]\n",
    "# plt.style.use('default')\n",
    "for i, k in enumerate(diseasen):\n",
    "    plt.subplot2grid((1, 3), (0, i))\n",
    "    if k in betainds:\n",
    "        plt.hist(np.absolute(allavgsamplebetas[k]), label=\"Random Sets Of SNPs\", bins=50, edgecolor=None, linewidth=0.)\n",
    "        plt.axvline(np.absolute(allavgbetas[k]), color='r', label='GwasKB SNPs', linewidth=2)\n",
    "    else:\n",
    "        plt.hist(np.absolute(np.log10(allavgsamplebetas[k])), label=\"Random Sets Of SNPs\", bins=50, edgecolor=None, linewidth=0.)\n",
    "        plt.axvline(np.absolute(np.log10(allavgbetas[k])), color='r', label='GwasKB SNPs', linewidth=2)      \n",
    "    plt.title(disease_names[k])\n",
    "    plt.tick_params(axis='both', labelsize=3)\n",
    "    if i==2: plt.legend(loc=\"upper right\")\n",
    "    if k in betainds:\n",
    "        plt.xlabel(\"Average Effect Size (|Beta|)\")\n",
    "    else:\n",
    "        plt.xlabel(\"Average Effect Size (|log OR|)\")\n",
    "    if i == 0: plt.ylabel(\"Number Of Random SNP Subsets\", fontsize=8)\n",
    "\n",
    "# plt.tight_layout()\n",
    "plt.suptitle('Distribution of Effect Sizes in Newly-Found vs Random SNPs')\n",
    "plt.tight_layout()\n",
    "plt.subplots_adjust(top=0.75)\n",
    "# plt.show()\n",
    "plt.savefig('all.violin.bottom.pdf')"
   ]
  },
  {
   "cell_type": "code",
   "execution_count": null,
   "metadata": {
    "collapsed": false
   },
   "outputs": [],
   "source": [
    "import pandas as pd\n",
    "from itertools import chain\n",
    "df_odds = pd.DataFrame({\n",
    "        'Effect Size' : np.log(np.concatenate([np.concatenate([diseasesnpbetas[i], subsamp_betas[i]]) for i in oddsinds])),\n",
    "        'Disease' : list(chain.from_iterable([[disease_names[i]] * (len(diseasesnpbetas[i]) + len(subsamp_betas[i])) for i in oddsinds])),\n",
    "        'Source' : list(chain.from_iterable([['GwasKB'] * len(diseasesnpbetas[i]) + ['All'] * len(subsamp_betas[i]) for i in oddsinds])),\n",
    "    })\n",
    "df_beta = pd.DataFrame({\n",
    "        'Effect Size' : (np.concatenate([np.concatenate([diseasesnpbetas[i], subsamp_betas[i]]) for i in betainds])),\n",
    "        'Disease' : list(chain.from_iterable([[disease_names[i]] * (len(diseasesnpbetas[i]) + len(subsamp_betas[i])) for i in betainds])),\n",
    "        'Source' : list(chain.from_iterable([['GwasKB'] * len(diseasesnpbetas[i]) + ['All'] * len(subsamp_betas[i]) for i in betainds])),\n",
    "    })\n",
    "df_all = pd.concat([df_beta, df_odds], ignore_index=True)\n",
    "\n",
    "df2 = df_beta.loc[df_beta['Source'] == 'GwasKB']\n",
    "for i in betainds:\n",
    "    df2=df2.append({'Effect Size': -1.5, 'Disease': diseases[i], 'Source': 'All'}, ignore_index=True)\n",
    "df2.tail()\n",
    "\n",
    "df3 = df_odds.loc[df_odds['Source'] == 'GwasKB']\n",
    "for i in oddsinds:\n",
    "    df3=df3.append({'Effect Size': -1.5, 'Disease': diseases[i], 'Source': 'All'}, ignore_index=True)\n",
    "df3.tail()\n",
    "\n",
    "df4 = pd.concat([df3, df2], ignore_index=True)\n",
    "df4.tail()"
   ]
  },
  {
   "cell_type": "code",
   "execution_count": null,
   "metadata": {
    "collapsed": false
   },
   "outputs": [],
   "source": [
    "import seaborn as sbn\n",
    "plt.clf()\n",
    "fig, (ax1, ax2) = plt.subplots(nrows=1, ncols=2, figsize=(20,6))\n",
    "\n",
    "# betas\n",
    "ax = sbn.stripplot(data=df2, x='Disease', y='Effect Size', hue='Source', split=True, jitter=0.1, palette=sbn.color_palette(['#333333']), edgecolor='grey',size=3, ax=ax1)\n",
    "plt.setp(ax.lines, zorder=100)\n",
    "plt.setp(ax.collections, zorder=100, label=\"\")\n",
    "# ax = sbn.boxplot(data=df_beta, x='disease', y='beta', hue='source', palette='muted', ax=ax)\n",
    "ax = sbn.violinplot(data=df_beta, x='Disease', y='Effect Size', hue='Source', bw=0.1, palette='muted', scale='width', scale_hue=True, ax=ax)\n",
    "ax.set_ylim([-1,2])\n",
    "# plt.yscale('symlog')\n",
    "ax.set_yscale('symlog', subsy=[0, 1, 2, 3, 4, 5], basey=10, linthreshy=1e-2)\n",
    "# plt.locator_params(axis='y', numticks=100)\n",
    "# plt.yticks([0., 1e-3, 1e-2, 1e-1, 1.])\n",
    "\n",
    "# ors\n",
    "ax = sbn.stripplot(data=df3, x='Disease', y='Effect Size', hue='Source', split=True, jitter=0.1, palette=sbn.color_palette(['#333333']), edgecolor='grey',size=3, ax=ax2)\n",
    "plt.setp(ax.lines, zorder=100)\n",
    "plt.setp(ax.collections, zorder=100, label=\"\")\n",
    "ax = sbn.violinplot(data=df_odds, x='Disease', y='Effect Size', hue='Source', bw=0.1, palette='muted', scale='width', scale_hue=True, ax=ax)\n",
    "ax.set_ylim([-1,2])\n",
    "ax.set_yscale('symlog', subsy=[0, 1, 2, 3, 4, 5], basey=10, linthreshy=1e-2)\n",
    "\n",
    "# plt.tight_layout()\n",
    "plt.show()"
   ]
  },
  {
   "cell_type": "code",
   "execution_count": null,
   "metadata": {
    "collapsed": false
   },
   "outputs": [],
   "source": [
    "# beta plot only\n",
    "import seaborn as sbn\n",
    "plt.clf()\n",
    "ax = sbn.stripplot(data=df2, x='Disease', y='Effect Size', hue='Source', split=True, jitter=0.1, palette=sbn.color_palette(['#333333']), edgecolor='grey',size=3)\n",
    "plt.setp(ax.lines, zorder=100)\n",
    "plt.setp(ax.collections, zorder=100, label=\"\")\n",
    "# ax = sbn.boxplot(data=df_beta, x='disease', y='beta', hue='source', palette='muted', ax=ax)\n",
    "ax = sbn.violinplot(data=df_beta, x='Disease', y='Effect Size', hue='Source', bw=0.1, palette='muted', scale='width', scale_hue=True, ax=ax)\n",
    "plt.ylim([-1,2])\n",
    "# plt.yscale('symlog')\n",
    "plt.yscale('symlog', subsy=[0, 1, 2, 3, 4, 5], basey=10, linthreshy=1e-2)\n",
    "# plt.locator_params(axis='y', numticks=100)\n",
    "# plt.yticks([0., 1e-3, 1e-2, 1e-1, 1.])\n",
    "plt.show()"
   ]
  },
  {
   "cell_type": "code",
   "execution_count": 16,
   "metadata": {
    "collapsed": false
   },
   "outputs": [],
   "source": [
    "from itertools import chain\n",
    "data = list(chain.from_iterable([([diseasesnpbetas[i], subsamp_betas[i]]) for i in betainds]))\n",
    "data2 = list(chain.from_iterable([([diseasesnpbetas[i], [], []]) for i in betainds]))\n",
    "posn = list(chain.from_iterable([(3*i+0, 3*i+1) for i in range(len(betainds))]))"
   ]
  },
  {
   "cell_type": "code",
   "execution_count": 23,
   "metadata": {
    "collapsed": false
   },
   "outputs": [],
   "source": [
    "import seaborn as sbn\n",
    "plt.clf()\n",
    "plt.violinplot(data, posn , points=40, widths=1.,\n",
    "                      showmeans=True, showextrema=True,\n",
    "                      bw_method=0.1)\n",
    "sbn.stripplot(data=data2, jitter=0.1, palette=sbn.color_palette(['#333333']), edgecolor='grey',size=3)\n",
    "# plt.ylim([-0.2,1.])\n",
    "plt.yticks([0., 1e-3, 1e-2, 1e-1, 1.])\n",
    "plt.yscale('symlog', subsy=[0, 1, 2, 3, 4, 5], basey=10, linthreshy=1e-2)\n",
    "plt.show()"
   ]
  },
  {
   "cell_type": "code",
   "execution_count": 26,
   "metadata": {
    "collapsed": false
   },
   "outputs": [
    {
     "data": {
      "text/plain": [
       "[80, 0, 0, 36, 0, 0, 57, 0, 0, 29, 0, 0, 16, 0, 0, 16, 0, 0]"
      ]
     },
     "execution_count": 26,
     "metadata": {},
     "output_type": "execute_result"
    }
   ],
   "source": [
    "[len(d) for d in data2]"
   ]
  }
 ],
 "metadata": {
  "anaconda-cloud": {},
  "kernelspec": {
   "display_name": "Python 2",
   "language": "python",
   "name": "python2"
  },
  "language_info": {
   "codemirror_mode": {
    "name": "ipython",
    "version": 2
   },
   "file_extension": ".py",
   "mimetype": "text/x-python",
   "name": "python",
   "nbconvert_exporter": "python",
   "pygments_lexer": "ipython2",
   "version": "2.7.2"
  }
 },
 "nbformat": 4,
 "nbformat_minor": 1
}
